{
  "nbformat": 4,
  "nbformat_minor": 0,
  "metadata": {
    "colab": {
      "name": "Python Basics.ipynb",
      "provenance": [],
      "toc_visible": true,
      "authorship_tag": "ABX9TyN6QvfNWlMNaLfe6Sths8MP",
      "include_colab_link": true
    },
    "kernelspec": {
      "name": "python3",
      "display_name": "Python 3"
    },
    "language_info": {
      "name": "python"
    }
  },
  "cells": [
    {
      "cell_type": "markdown",
      "metadata": {
        "id": "view-in-github",
        "colab_type": "text"
      },
      "source": [
        "<a href=\"https://colab.research.google.com/github/SylviaOkeke/Python-for-Data-Science/blob/main/Python_Basics.ipynb\" target=\"_parent\"><img src=\"https://colab.research.google.com/assets/colab-badge.svg\" alt=\"Open In Colab\"/></a>"
      ]
    },
    {
      "cell_type": "markdown",
      "source": [
        "**Python** **Basics**"
      ],
      "metadata": {
        "id": "KdOIxb1xat5w"
      }
    },
    {
      "cell_type": "markdown",
      "source": [
        "**Variable** **Declaration**"
      ],
      "metadata": {
        "id": "7XIK_HJqa0gi"
      }
    },
    {
      "cell_type": "markdown",
      "source": [
        "**Boolean**"
      ],
      "metadata": {
        "id": "4hYBvL2ga6VE"
      }
    },
    {
      "cell_type": "code",
      "source": [
        "True "
      ],
      "metadata": {
        "colab": {
          "base_uri": "https://localhost:8080/"
        },
        "id": "CEVxdd6Ca8VZ",
        "outputId": "5e2cc2a3-375a-4146-c085-7059672a8e6a"
      },
      "execution_count": null,
      "outputs": [
        {
          "output_type": "execute_result",
          "data": {
            "text/plain": [
              "True"
            ]
          },
          "metadata": {},
          "execution_count": 42
        }
      ]
    },
    {
      "cell_type": "code",
      "source": [
        "False"
      ],
      "metadata": {
        "colab": {
          "base_uri": "https://localhost:8080/"
        },
        "id": "o-tHpW39bBVC",
        "outputId": "84805b04-d36b-498c-abfd-e4bb7ef31b29"
      },
      "execution_count": null,
      "outputs": [
        {
          "output_type": "execute_result",
          "data": {
            "text/plain": [
              "False"
            ]
          },
          "metadata": {},
          "execution_count": 43
        }
      ]
    },
    {
      "cell_type": "code",
      "source": [
        "name = True"
      ],
      "metadata": {
        "id": "DPnfODB2bFbV"
      },
      "execution_count": null,
      "outputs": []
    },
    {
      "cell_type": "code",
      "source": [
        "name"
      ],
      "metadata": {
        "colab": {
          "base_uri": "https://localhost:8080/"
        },
        "id": "gtM9EvqHbPIW",
        "outputId": "85c13e51-36fb-4adc-aa59-05856775761b"
      },
      "execution_count": null,
      "outputs": [
        {
          "output_type": "execute_result",
          "data": {
            "text/plain": [
              "True"
            ]
          },
          "metadata": {},
          "execution_count": 45
        }
      ]
    },
    {
      "cell_type": "code",
      "source": [
        "age = False "
      ],
      "metadata": {
        "id": "t6bCm9CWbTRr"
      },
      "execution_count": null,
      "outputs": []
    },
    {
      "cell_type": "code",
      "source": [
        "print(age)"
      ],
      "metadata": {
        "colab": {
          "base_uri": "https://localhost:8080/"
        },
        "id": "X4Su887VbYRg",
        "outputId": "c8dc4657-d2dc-46f7-e8bb-3f2c964f0eef"
      },
      "execution_count": null,
      "outputs": [
        {
          "output_type": "stream",
          "name": "stdout",
          "text": [
            "False\n"
          ]
        }
      ]
    },
    {
      "cell_type": "markdown",
      "source": [
        "**Comparison** **operator**"
      ],
      "metadata": {
        "id": "DG5qTNI_bkru"
      }
    },
    {
      "cell_type": "code",
      "source": [
        "1 == 1"
      ],
      "metadata": {
        "colab": {
          "base_uri": "https://localhost:8080/"
        },
        "id": "7YqY3S1Mbz3-",
        "outputId": "bfed3cae-8383-498f-df4b-2530b1c99cc7"
      },
      "execution_count": null,
      "outputs": [
        {
          "output_type": "execute_result",
          "data": {
            "text/plain": [
              "True"
            ]
          },
          "metadata": {},
          "execution_count": 48
        }
      ]
    },
    {
      "cell_type": "code",
      "source": [
        "1 <=2"
      ],
      "metadata": {
        "colab": {
          "base_uri": "https://localhost:8080/"
        },
        "id": "D0F7JR3QcBDi",
        "outputId": "058650e8-44f5-4e47-a1c8-1943735c4b6c"
      },
      "execution_count": null,
      "outputs": [
        {
          "output_type": "execute_result",
          "data": {
            "text/plain": [
              "True"
            ]
          },
          "metadata": {},
          "execution_count": 49
        }
      ]
    },
    {
      "cell_type": "code",
      "source": [
        "2 >= 3"
      ],
      "metadata": {
        "colab": {
          "base_uri": "https://localhost:8080/"
        },
        "id": "IPhKcd_icFOn",
        "outputId": "9b851d62-8929-4535-d5b2-d040439d491d"
      },
      "execution_count": null,
      "outputs": [
        {
          "output_type": "execute_result",
          "data": {
            "text/plain": [
              "False"
            ]
          },
          "metadata": {},
          "execution_count": 50
        }
      ]
    },
    {
      "cell_type": "code",
      "source": [
        "2 != 3"
      ],
      "metadata": {
        "colab": {
          "base_uri": "https://localhost:8080/"
        },
        "id": "yHimuTvJcHlG",
        "outputId": "2f2cdebb-0de9-4c53-f11e-7af3b207e639"
      },
      "execution_count": null,
      "outputs": [
        {
          "output_type": "execute_result",
          "data": {
            "text/plain": [
              "True"
            ]
          },
          "metadata": {},
          "execution_count": 51
        }
      ]
    },
    {
      "cell_type": "code",
      "source": [
        "# ==\n",
        "# <=\n",
        "# >=\n",
        "# !="
      ],
      "metadata": {
        "id": "CM1jPan8cSEd"
      },
      "execution_count": null,
      "outputs": []
    },
    {
      "cell_type": "markdown",
      "source": [
        "**Print Formatting with strings**"
      ],
      "metadata": {
        "id": "6DPiuvx-cZHc"
      }
    },
    {
      "cell_type": "code",
      "source": [
        "print(\"August\" + str(2022))"
      ],
      "metadata": {
        "colab": {
          "base_uri": "https://localhost:8080/"
        },
        "id": "5nKqUfnbclDG",
        "outputId": "c0ee5a2f-d0d9-46f2-af3b-a936d9c58d84"
      },
      "execution_count": null,
      "outputs": [
        {
          "output_type": "stream",
          "name": "stdout",
          "text": [
            "August2022\n"
          ]
        }
      ]
    },
    {
      "cell_type": "markdown",
      "source": [
        "**% modulo character**"
      ],
      "metadata": {
        "id": "smpvdy2mcsXV"
      }
    },
    {
      "cell_type": "code",
      "source": [
        "print(\"Let me add %s here\"%'a')"
      ],
      "metadata": {
        "colab": {
          "base_uri": "https://localhost:8080/"
        },
        "id": "MK6pe9iVc7PF",
        "outputId": "a870cea1-1daf-41c0-ef3c-7fff697fbab5"
      },
      "execution_count": null,
      "outputs": [
        {
          "output_type": "stream",
          "name": "stdout",
          "text": [
            "Let me add a here\n"
          ]
        }
      ]
    },
    {
      "cell_type": "code",
      "source": [
        "print(\"I'm going to put %s text here, and %s text here.\"%('some','another'))"
      ],
      "metadata": {
        "colab": {
          "base_uri": "https://localhost:8080/"
        },
        "id": "4UlqmQkvdAJl",
        "outputId": "479bc3ff-0975-405d-fd5d-3b9877249e62"
      },
      "execution_count": null,
      "outputs": [
        {
          "output_type": "stream",
          "name": "stdout",
          "text": [
            "I'm going to put some text here, and another text here.\n"
          ]
        }
      ]
    },
    {
      "cell_type": "code",
      "source": [
        "x = 'some'\n",
        "y= 'another'"
      ],
      "metadata": {
        "id": "FMF316hydGM8"
      },
      "execution_count": null,
      "outputs": []
    },
    {
      "cell_type": "code",
      "source": [
        "print(\"I'm going to put %s text here, and %s text here.\"%(x,y))"
      ],
      "metadata": {
        "colab": {
          "base_uri": "https://localhost:8080/"
        },
        "id": "oCWDGuoXdThR",
        "outputId": "5d589100-0c62-4c28-d40a-c3a77ee05a21"
      },
      "execution_count": null,
      "outputs": [
        {
          "output_type": "stream",
          "name": "stdout",
          "text": [
            "I'm going to put some text here, and another text here.\n"
          ]
        }
      ]
    },
    {
      "cell_type": "code",
      "source": [
        "name = 'Oscar'\n",
        "phone_price = 600.789\n",
        "number_of_phones = 2"
      ],
      "metadata": {
        "id": "H-1TOjx3dcH4"
      },
      "execution_count": null,
      "outputs": []
    },
    {
      "cell_type": "code",
      "source": [
        "print(\"Mr %s's new phone is valued at %.2f, and his phone tally is now %i\"%(name,phone_price,number_of_phones))"
      ],
      "metadata": {
        "colab": {
          "base_uri": "https://localhost:8080/"
        },
        "id": "6InheNUIdqZx",
        "outputId": "b6f4a91b-4fa3-482a-b3fd-daece2e72f7a"
      },
      "execution_count": null,
      "outputs": [
        {
          "output_type": "stream",
          "name": "stdout",
          "text": [
            "Mr Oscar's new phone is valued at 600.79, and his phone tally is now 2\n"
          ]
        }
      ]
    },
    {
      "cell_type": "markdown",
      "source": [
        "**.Format()**"
      ],
      "metadata": {
        "id": "4KnXVz5OdzH3"
      }
    },
    {
      "cell_type": "code",
      "source": [
        "print('let me add {0} here'.format('a'))"
      ],
      "metadata": {
        "colab": {
          "base_uri": "https://localhost:8080/"
        },
        "id": "5NoFxRBGd609",
        "outputId": "bb8e5591-749d-41e8-8187-7f8a116d0b8e"
      },
      "execution_count": null,
      "outputs": [
        {
          "output_type": "stream",
          "name": "stdout",
          "text": [
            "let me add a here\n"
          ]
        }
      ]
    },
    {
      "cell_type": "code",
      "source": [
        "print('The {a} {b} {c}'.format(c='fox',b='brown',a='quick'))"
      ],
      "metadata": {
        "colab": {
          "base_uri": "https://localhost:8080/"
        },
        "id": "JE1z2v6HeBSA",
        "outputId": "53a833cd-cf85-481d-b17e-1678ce9ba3e4"
      },
      "execution_count": null,
      "outputs": [
        {
          "output_type": "stream",
          "name": "stdout",
          "text": [
            "The quick brown fox\n"
          ]
        }
      ]
    },
    {
      "cell_type": "code",
      "source": [
        "print('A %s saved is a %s earned'%('penny','penny'))"
      ],
      "metadata": {
        "colab": {
          "base_uri": "https://localhost:8080/"
        },
        "id": "ELZ15XtEeFAg",
        "outputId": "0b6c8b40-a1a2-41fb-9fe7-22155059919d"
      },
      "execution_count": null,
      "outputs": [
        {
          "output_type": "stream",
          "name": "stdout",
          "text": [
            "A penny saved is a penny earned\n"
          ]
        }
      ]
    },
    {
      "cell_type": "code",
      "source": [
        "print('A {a} saved is a {a} earned'.format(a='penny'))"
      ],
      "metadata": {
        "colab": {
          "base_uri": "https://localhost:8080/"
        },
        "id": "hfnUAS7_eKF2",
        "outputId": "8b76766f-6cac-4973-8075-12b18b7229e7"
      },
      "execution_count": null,
      "outputs": [
        {
          "output_type": "stream",
          "name": "stdout",
          "text": [
            "A penny saved is a penny earned\n"
          ]
        }
      ]
    },
    {
      "cell_type": "markdown",
      "source": [
        "**F-String**"
      ],
      "metadata": {
        "id": "xWwOAyipebKJ"
      }
    },
    {
      "cell_type": "code",
      "source": [
        "name = 'david'\n",
        "print(f'He said his name is {name}')"
      ],
      "metadata": {
        "colab": {
          "base_uri": "https://localhost:8080/"
        },
        "id": "lYKTZlCkek-n",
        "outputId": "a00f4a7c-950b-401a-e186-728b8aba2d53"
      },
      "execution_count": null,
      "outputs": [
        {
          "output_type": "stream",
          "name": "stdout",
          "text": [
            "He said his name is david\n"
          ]
        }
      ]
    },
    {
      "cell_type": "code",
      "source": [
        "print(f\"A {'penny'} saved is a {'penny'} earned\")"
      ],
      "metadata": {
        "colab": {
          "base_uri": "https://localhost:8080/"
        },
        "id": "M8sG_qxKerIm",
        "outputId": "71ac49e4-48d8-4045-97e5-a2347e0e3d5b"
      },
      "execution_count": null,
      "outputs": [
        {
          "output_type": "stream",
          "name": "stdout",
          "text": [
            "A penny saved is a penny earned\n"
          ]
        }
      ]
    },
    {
      "cell_type": "markdown",
      "source": [
        "**Modules and Libraries**"
      ],
      "metadata": {
        "id": "dKTMtGH1fKao"
      }
    },
    {
      "cell_type": "code",
      "source": [
        "import sys"
      ],
      "metadata": {
        "id": "MmZjMdRbfOhn"
      },
      "execution_count": null,
      "outputs": []
    },
    {
      "cell_type": "code",
      "source": [
        "sys.copyright"
      ],
      "metadata": {
        "colab": {
          "base_uri": "https://localhost:8080/",
          "height": 70
        },
        "id": "ayEfxWlVfUgX",
        "outputId": "014f4cb6-4c94-4f81-8b43-dfda84eacba0"
      },
      "execution_count": null,
      "outputs": [
        {
          "output_type": "execute_result",
          "data": {
            "text/plain": [
              "'Copyright (c) 2001-2022 Python Software Foundation.\\nAll Rights Reserved.\\n\\nCopyright (c) 2000 BeOpen.com.\\nAll Rights Reserved.\\n\\nCopyright (c) 1995-2001 Corporation for National Research Initiatives.\\nAll Rights Reserved.\\n\\nCopyright (c) 1991-1995 Stichting Mathematisch Centrum, Amsterdam.\\nAll Rights Reserved.'"
            ],
            "application/vnd.google.colaboratory.intrinsic+json": {
              "type": "string"
            }
          },
          "metadata": {},
          "execution_count": 67
        }
      ]
    },
    {
      "cell_type": "code",
      "source": [
        "sys.implementation"
      ],
      "metadata": {
        "colab": {
          "base_uri": "https://localhost:8080/"
        },
        "id": "GymIqOb9fjPP",
        "outputId": "e4c02bd7-2bf7-41e5-858b-a04cf88d9fb3"
      },
      "execution_count": null,
      "outputs": [
        {
          "output_type": "execute_result",
          "data": {
            "text/plain": [
              "namespace(_multiarch='x86_64-linux-gnu', cache_tag='cpython-37', hexversion=50793968, name='cpython', version=sys.version_info(major=3, minor=7, micro=13, releaselevel='final', serial=0))"
            ]
          },
          "metadata": {},
          "execution_count": 68
        }
      ]
    },
    {
      "cell_type": "code",
      "source": [
        "sys.version"
      ],
      "metadata": {
        "colab": {
          "base_uri": "https://localhost:8080/",
          "height": 35
        },
        "id": "vE8AnPRBfpi7",
        "outputId": "bcea99b2-e903-48ec-e58f-df3ee64460ea"
      },
      "execution_count": null,
      "outputs": [
        {
          "output_type": "execute_result",
          "data": {
            "text/plain": [
              "'3.7.13 (default, Apr 24 2022, 01:04:09) \\n[GCC 7.5.0]'"
            ],
            "application/vnd.google.colaboratory.intrinsic+json": {
              "type": "string"
            }
          },
          "metadata": {},
          "execution_count": 69
        }
      ]
    },
    {
      "cell_type": "markdown",
      "source": [
        "**Packages**"
      ],
      "metadata": {
        "id": "H2Rr3azwf5Zw"
      }
    },
    {
      "cell_type": "code",
      "source": [
        "pip install pandas \n",
        "conda install pandas "
      ],
      "metadata": {
        "id": "vZOpaOmtOvR4"
      },
      "execution_count": null,
      "outputs": []
    },
    {
      "cell_type": "code",
      "source": [
        "import pandas "
      ],
      "metadata": {
        "id": "iuyOALJ7gL0a"
      },
      "execution_count": null,
      "outputs": []
    },
    {
      "cell_type": "markdown",
      "source": [
        "Data Science: NumPy, pandas, SciPy, etc. Graphics: matplotlib, plotly, seaborn, bokeh, etc. Statistics: statmodels Machine learning: Scikit-Learn, Keras, TensorFlow, Theano, etc. Web scraping: Scrapy, pyQT, wxPython, etc. GUI Toolkit: pyGtk, pyQT, wxPython, etc. Web development: Django, web2py, Flask, Pyramid"
      ],
      "metadata": {
        "id": "4OXnSuNHgUR_"
      }
    },
    {
      "cell_type": "code",
      "source": [
        "import math"
      ],
      "metadata": {
        "id": "DgyvCYAlgWDv"
      },
      "execution_count": null,
      "outputs": []
    },
    {
      "cell_type": "code",
      "source": [
        "math.sqrt(16)"
      ],
      "metadata": {
        "colab": {
          "base_uri": "https://localhost:8080/"
        },
        "id": "wFBs-gZygda7",
        "outputId": "82ff5639-1102-48c9-c4a3-fef71d92ee57"
      },
      "execution_count": null,
      "outputs": [
        {
          "output_type": "execute_result",
          "data": {
            "text/plain": [
              "4.0"
            ]
          },
          "metadata": {},
          "execution_count": 74
        }
      ]
    },
    {
      "cell_type": "code",
      "source": [
        "math.pi"
      ],
      "metadata": {
        "colab": {
          "base_uri": "https://localhost:8080/"
        },
        "id": "92SI3JdSgirZ",
        "outputId": "92c42b2a-ef1d-4ca5-ec29-a7921bf24939"
      },
      "execution_count": null,
      "outputs": [
        {
          "output_type": "execute_result",
          "data": {
            "text/plain": [
              "3.141592653589793"
            ]
          },
          "metadata": {},
          "execution_count": 75
        }
      ]
    },
    {
      "cell_type": "code",
      "source": [
        "math.floor(3.56)"
      ],
      "metadata": {
        "colab": {
          "base_uri": "https://localhost:8080/"
        },
        "id": "1FZiJMm2gnxD",
        "outputId": "94f4cbeb-7657-4792-b352-101bfc7cb592"
      },
      "execution_count": null,
      "outputs": [
        {
          "output_type": "execute_result",
          "data": {
            "text/plain": [
              "3"
            ]
          },
          "metadata": {},
          "execution_count": 76
        }
      ]
    },
    {
      "cell_type": "markdown",
      "source": [
        "**Selective Importation**"
      ],
      "metadata": {
        "id": "jR3FHHDygt1K"
      }
    },
    {
      "cell_type": "code",
      "source": [
        "from math import sqrt"
      ],
      "metadata": {
        "id": "sSRGlwjKgygE"
      },
      "execution_count": null,
      "outputs": []
    },
    {
      "cell_type": "code",
      "source": [
        "sqrt(16)"
      ],
      "metadata": {
        "colab": {
          "base_uri": "https://localhost:8080/"
        },
        "id": "wRUawDX8g7dO",
        "outputId": "4bf13f34-4516-4792-d032-55483c03b866"
      },
      "execution_count": null,
      "outputs": [
        {
          "output_type": "execute_result",
          "data": {
            "text/plain": [
              "4.0"
            ]
          },
          "metadata": {},
          "execution_count": 78
        }
      ]
    },
    {
      "cell_type": "code",
      "source": [
        "import matplotlib as pyplot"
      ],
      "metadata": {
        "id": "0BmuXN9yhA5T"
      },
      "execution_count": null,
      "outputs": []
    },
    {
      "cell_type": "markdown",
      "source": [
        "**Data Structure**"
      ],
      "metadata": {
        "id": "jERs4sCUhGKh"
      }
    },
    {
      "cell_type": "code",
      "source": [
        "name = 'Yemmy'\n",
        "incubator_sudents = \"Fiyin\",\"Amos\",\"Victor\",\"Josiah\"\n",
        "incubator_sudents"
      ],
      "metadata": {
        "colab": {
          "base_uri": "https://localhost:8080/"
        },
        "id": "KTwLQwqBhOfi",
        "outputId": "8a1f47f5-8d4a-4c8b-c1df-60792d13c79c"
      },
      "execution_count": null,
      "outputs": [
        {
          "output_type": "execute_result",
          "data": {
            "text/plain": [
              "('Fiyin', 'Amos', 'Victor', 'Josiah')"
            ]
          },
          "metadata": {},
          "execution_count": 80
        }
      ]
    },
    {
      "cell_type": "markdown",
      "source": [
        "**List**"
      ],
      "metadata": {
        "id": "KEJPuA7YhWAX"
      }
    },
    {
      "cell_type": "code",
      "source": [
        "lst =[]\n",
        "type(lst)"
      ],
      "metadata": {
        "colab": {
          "base_uri": "https://localhost:8080/"
        },
        "id": "lhBAiR37hZ0Q",
        "outputId": "f91cb114-e71c-41e5-c26f-1c47be90d7b6"
      },
      "execution_count": null,
      "outputs": [
        {
          "output_type": "execute_result",
          "data": {
            "text/plain": [
              "list"
            ]
          },
          "metadata": {},
          "execution_count": 81
        }
      ]
    },
    {
      "cell_type": "code",
      "source": [
        "lst =[\"Fiyin\",\"Amos\",\"Victor\",\"Josiah\"]\n",
        "lst"
      ],
      "metadata": {
        "colab": {
          "base_uri": "https://localhost:8080/"
        },
        "id": "JeTzBF41hgus",
        "outputId": "33ff0c6e-2d9f-48a7-c295-cd95c3586c88"
      },
      "execution_count": null,
      "outputs": [
        {
          "output_type": "execute_result",
          "data": {
            "text/plain": [
              "['Fiyin', 'Amos', 'Victor', 'Josiah']"
            ]
          },
          "metadata": {},
          "execution_count": 82
        }
      ]
    },
    {
      "cell_type": "code",
      "source": [
        "lst = [\"yemmy\",40,True,'Fiyin',90,False]\n",
        "lst"
      ],
      "metadata": {
        "colab": {
          "base_uri": "https://localhost:8080/"
        },
        "id": "LK2Dhzu2hndg",
        "outputId": "284e6dc9-df71-4963-a4ac-2138db910295"
      },
      "execution_count": null,
      "outputs": [
        {
          "output_type": "execute_result",
          "data": {
            "text/plain": [
              "['yemmy', 40, True, 'Fiyin', 90, False]"
            ]
          },
          "metadata": {},
          "execution_count": 83
        }
      ]
    },
    {
      "cell_type": "markdown",
      "source": [
        "**Indexing and Slicing a list**"
      ],
      "metadata": {
        "id": "h2SQt-gFhsmr"
      }
    },
    {
      "cell_type": "markdown",
      "source": [
        "Yemmy 40 True Fiyin 90 True\n",
        "\n",
        "0 1 2 3 4 5"
      ],
      "metadata": {
        "id": "MbBndoFSh-C1"
      }
    },
    {
      "cell_type": "code",
      "source": [
        "lst[:4]"
      ],
      "metadata": {
        "colab": {
          "base_uri": "https://localhost:8080/"
        },
        "id": "9QBWSIJFiAtu",
        "outputId": "966142df-65a0-48f0-c1e6-52030edc95e0"
      },
      "execution_count": null,
      "outputs": [
        {
          "output_type": "execute_result",
          "data": {
            "text/plain": [
              "['yemmy', 40, True, 'Fiyin']"
            ]
          },
          "metadata": {},
          "execution_count": 84
        }
      ]
    },
    {
      "cell_type": "code",
      "source": [
        "lst + ['segun']"
      ],
      "metadata": {
        "colab": {
          "base_uri": "https://localhost:8080/"
        },
        "id": "FeEse9O2iFjp",
        "outputId": "e71288f4-a19c-47e6-c971-5fb3ef3b8e74"
      },
      "execution_count": null,
      "outputs": [
        {
          "output_type": "execute_result",
          "data": {
            "text/plain": [
              "['yemmy', 40, True, 'Fiyin', 90, False, 'segun']"
            ]
          },
          "metadata": {},
          "execution_count": 85
        }
      ]
    },
    {
      "cell_type": "code",
      "source": [
        "lst * 2"
      ],
      "metadata": {
        "colab": {
          "base_uri": "https://localhost:8080/"
        },
        "id": "teeHmtqdiQE9",
        "outputId": "6142be97-d655-46c3-d61c-fb99873a4e3a"
      },
      "execution_count": null,
      "outputs": [
        {
          "output_type": "execute_result",
          "data": {
            "text/plain": [
              "['yemmy', 40, True, 'Fiyin', 90, False, 'yemmy', 40, True, 'Fiyin', 90, False]"
            ]
          },
          "metadata": {},
          "execution_count": 86
        }
      ]
    },
    {
      "cell_type": "markdown",
      "source": [
        "**List Method**"
      ],
      "metadata": {
        "id": "8tehTRV6iVYW"
      }
    },
    {
      "cell_type": "code",
      "source": [
        "zacrac = ['Spss','R','Power Bi','Excel']\n",
        "zacrac"
      ],
      "metadata": {
        "colab": {
          "base_uri": "https://localhost:8080/"
        },
        "id": "eLX_YKpRiavA",
        "outputId": "de9bb1ce-3850-46c5-9518-5131a5adeb08"
      },
      "execution_count": null,
      "outputs": [
        {
          "output_type": "execute_result",
          "data": {
            "text/plain": [
              "['Spss', 'R', 'Power Bi', 'Excel']"
            ]
          },
          "metadata": {},
          "execution_count": 87
        }
      ]
    },
    {
      "cell_type": "code",
      "source": [
        "## properties of list\n",
        "zacrac[0] = 'Python'"
      ],
      "metadata": {
        "id": "c3XD67v0ikC1"
      },
      "execution_count": null,
      "outputs": []
    },
    {
      "cell_type": "code",
      "source": [
        "zacrac"
      ],
      "metadata": {
        "colab": {
          "base_uri": "https://localhost:8080/"
        },
        "id": "eEKnQRBZio2C",
        "outputId": "7482ea80-af99-42b7-caa3-84d320b30ae6"
      },
      "execution_count": null,
      "outputs": [
        {
          "output_type": "execute_result",
          "data": {
            "text/plain": [
              "['Python', 'R', 'Power Bi', 'Excel']"
            ]
          },
          "metadata": {},
          "execution_count": 89
        }
      ]
    },
    {
      "cell_type": "markdown",
      "source": [
        "**Append Method**"
      ],
      "metadata": {
        "id": "rviCei2qiuxD"
      }
    },
    {
      "cell_type": "code",
      "source": [
        "zacrac.append('spss')\n",
        "zacrac"
      ],
      "metadata": {
        "colab": {
          "base_uri": "https://localhost:8080/"
        },
        "id": "unTNny2Di3YU",
        "outputId": "5db7176d-f647-4898-9fa1-ab1ec9a3c375"
      },
      "execution_count": null,
      "outputs": [
        {
          "output_type": "execute_result",
          "data": {
            "text/plain": [
              "['Python', 'R', 'Power Bi', 'Excel', 'spss']"
            ]
          },
          "metadata": {},
          "execution_count": 90
        }
      ]
    },
    {
      "cell_type": "code",
      "source": [
        "zacrac.append('Matlab')"
      ],
      "metadata": {
        "id": "YjHllvkYi952"
      },
      "execution_count": null,
      "outputs": []
    },
    {
      "cell_type": "code",
      "source": [
        "zacrac"
      ],
      "metadata": {
        "colab": {
          "base_uri": "https://localhost:8080/"
        },
        "id": "wx3-OUxcjGI7",
        "outputId": "ca10e62e-08d8-4d76-9d3c-65436164781f"
      },
      "execution_count": null,
      "outputs": [
        {
          "output_type": "execute_result",
          "data": {
            "text/plain": [
              "['Python', 'R', 'Power Bi', 'Excel', 'spss', 'Matlab']"
            ]
          },
          "metadata": {},
          "execution_count": 92
        }
      ]
    },
    {
      "cell_type": "code",
      "source": [
        "zacrac.append(['Tableau','Survey','Statistics'])\n",
        "zacrac"
      ],
      "metadata": {
        "colab": {
          "base_uri": "https://localhost:8080/"
        },
        "id": "jBZw52uSjMRS",
        "outputId": "dbdd381a-0d56-4d9c-c94c-e9ed0fecb09c"
      },
      "execution_count": null,
      "outputs": [
        {
          "output_type": "execute_result",
          "data": {
            "text/plain": [
              "['Python',\n",
              " 'R',\n",
              " 'Power Bi',\n",
              " 'Excel',\n",
              " 'spss',\n",
              " 'Matlab',\n",
              " ['Tableau', 'Survey', 'Statistics']]"
            ]
          },
          "metadata": {},
          "execution_count": 93
        }
      ]
    },
    {
      "cell_type": "markdown",
      "source": [
        "**Use .extend when you want to add content of a list to another list**"
      ],
      "metadata": {
        "id": "jlJdi87PjVwy"
      }
    },
    {
      "cell_type": "code",
      "source": [
        "zacrac.extend(['Tableau','Survey','Statistics'])"
      ],
      "metadata": {
        "id": "vNrnBfWTjhLQ"
      },
      "execution_count": null,
      "outputs": []
    },
    {
      "cell_type": "code",
      "source": [
        "zacrac"
      ],
      "metadata": {
        "colab": {
          "base_uri": "https://localhost:8080/"
        },
        "id": "058WUECxjk9l",
        "outputId": "e911bcb1-1ac4-4e66-ad80-d119bddb3963"
      },
      "execution_count": null,
      "outputs": [
        {
          "output_type": "execute_result",
          "data": {
            "text/plain": [
              "['Python',\n",
              " 'R',\n",
              " 'Power Bi',\n",
              " 'Excel',\n",
              " 'spss',\n",
              " 'Matlab',\n",
              " ['Tableau', 'Survey', 'Statistics'],\n",
              " 'Tableau',\n",
              " 'Survey',\n",
              " 'Statistics']"
            ]
          },
          "metadata": {},
          "execution_count": 95
        }
      ]
    },
    {
      "cell_type": "markdown",
      "source": [
        "**Pop Method**"
      ],
      "metadata": {
        "id": "k2Dzrzjejq6V"
      }
    },
    {
      "cell_type": "code",
      "source": [
        "zacrac.pop()"
      ],
      "metadata": {
        "colab": {
          "base_uri": "https://localhost:8080/",
          "height": 35
        },
        "id": "bBbW6GlJjx3W",
        "outputId": "04322a4a-bfa5-4232-8bd8-9c5c0098d57a"
      },
      "execution_count": null,
      "outputs": [
        {
          "output_type": "execute_result",
          "data": {
            "text/plain": [
              "'Statistics'"
            ],
            "application/vnd.google.colaboratory.intrinsic+json": {
              "type": "string"
            }
          },
          "metadata": {},
          "execution_count": 96
        }
      ]
    },
    {
      "cell_type": "code",
      "source": [
        "zacrac"
      ],
      "metadata": {
        "colab": {
          "base_uri": "https://localhost:8080/"
        },
        "id": "S6HKS6Mqj1j5",
        "outputId": "fd6668fd-1297-46c3-e253-9fd60fc1922f"
      },
      "execution_count": null,
      "outputs": [
        {
          "output_type": "execute_result",
          "data": {
            "text/plain": [
              "['Python',\n",
              " 'R',\n",
              " 'Power Bi',\n",
              " 'Excel',\n",
              " 'spss',\n",
              " 'Matlab',\n",
              " ['Tableau', 'Survey', 'Statistics'],\n",
              " 'Tableau',\n",
              " 'Survey']"
            ]
          },
          "metadata": {},
          "execution_count": 97
        }
      ]
    },
    {
      "cell_type": "code",
      "source": [
        "zacrac.pop(3)"
      ],
      "metadata": {
        "colab": {
          "base_uri": "https://localhost:8080/",
          "height": 35
        },
        "id": "1zDpnDZQj50k",
        "outputId": "798a5da3-ab60-41f7-ee8a-2e3e1a745128"
      },
      "execution_count": null,
      "outputs": [
        {
          "output_type": "execute_result",
          "data": {
            "text/plain": [
              "'Excel'"
            ],
            "application/vnd.google.colaboratory.intrinsic+json": {
              "type": "string"
            }
          },
          "metadata": {},
          "execution_count": 98
        }
      ]
    },
    {
      "cell_type": "code",
      "source": [
        "zacrac"
      ],
      "metadata": {
        "colab": {
          "base_uri": "https://localhost:8080/"
        },
        "id": "Wj1z8a5xkAW_",
        "outputId": "248bf52a-5b15-4540-fc7f-3f92975d83f0"
      },
      "execution_count": null,
      "outputs": [
        {
          "output_type": "execute_result",
          "data": {
            "text/plain": [
              "['Python',\n",
              " 'R',\n",
              " 'Power Bi',\n",
              " 'spss',\n",
              " 'Matlab',\n",
              " ['Tableau', 'Survey', 'Statistics'],\n",
              " 'Tableau',\n",
              " 'Survey']"
            ]
          },
          "metadata": {},
          "execution_count": 99
        }
      ]
    },
    {
      "cell_type": "code",
      "source": [
        "zacrac.insert(2,'Excel')"
      ],
      "metadata": {
        "id": "E7af4TtpkD_A"
      },
      "execution_count": null,
      "outputs": []
    },
    {
      "cell_type": "code",
      "source": [
        "zacrac"
      ],
      "metadata": {
        "id": "jHvEbSXkkJ4v"
      },
      "execution_count": null,
      "outputs": []
    },
    {
      "cell_type": "code",
      "source": [
        "zacrac.remove('Survey')"
      ],
      "metadata": {
        "id": "P-G9BcFzkPgP"
      },
      "execution_count": null,
      "outputs": []
    },
    {
      "cell_type": "code",
      "source": [
        "zacrac"
      ],
      "metadata": {
        "colab": {
          "base_uri": "https://localhost:8080/"
        },
        "id": "VnUOr4L7k0hW",
        "outputId": "80b24601-50c6-4c75-9468-9b177b66a0fa"
      },
      "execution_count": null,
      "outputs": [
        {
          "output_type": "execute_result",
          "data": {
            "text/plain": [
              "['Python',\n",
              " 'R',\n",
              " 'Excel',\n",
              " 'Power Bi',\n",
              " 'spss',\n",
              " 'Matlab',\n",
              " ['Tableau', 'Survey', 'Statistics'],\n",
              " 'Tableau',\n",
              " 'Survey']"
            ]
          },
          "metadata": {},
          "execution_count": 102
        }
      ]
    },
    {
      "cell_type": "code",
      "source": [
        "zacrac.index('R')"
      ],
      "metadata": {
        "colab": {
          "base_uri": "https://localhost:8080/"
        },
        "id": "A4k59qHElAbP",
        "outputId": "836c9ee0-f24f-4060-df9f-97e40c65b38c"
      },
      "execution_count": null,
      "outputs": [
        {
          "output_type": "execute_result",
          "data": {
            "text/plain": [
              "1"
            ]
          },
          "metadata": {},
          "execution_count": 104
        }
      ]
    },
    {
      "cell_type": "code",
      "source": [
        "zacrac.count('Excel')"
      ],
      "metadata": {
        "colab": {
          "base_uri": "https://localhost:8080/"
        },
        "id": "Y4zFGlDPlEUJ",
        "outputId": "3cb35df5-b6a4-4324-e18a-6c80a5ba75ab"
      },
      "execution_count": null,
      "outputs": [
        {
          "output_type": "execute_result",
          "data": {
            "text/plain": [
              "1"
            ]
          },
          "metadata": {},
          "execution_count": 105
        }
      ]
    },
    {
      "cell_type": "code",
      "source": [
        "zacrac.reverse()\n",
        "zacrac"
      ],
      "metadata": {
        "colab": {
          "base_uri": "https://localhost:8080/"
        },
        "id": "BAfQ5UlflNSA",
        "outputId": "b8910861-e27f-43c8-8f3c-e64fde9593c0"
      },
      "execution_count": null,
      "outputs": [
        {
          "output_type": "execute_result",
          "data": {
            "text/plain": [
              "['Tableau',\n",
              " ['Tableau', 'Survey', 'Statistics'],\n",
              " 'spss',\n",
              " 'R',\n",
              " 'Python',\n",
              " 'Power Bi',\n",
              " 'Matlab',\n",
              " 'Excel']"
            ]
          },
          "metadata": {},
          "execution_count": 108
        }
      ]
    },
    {
      "cell_type": "code",
      "source": [
        "zacrac.sort()"
      ],
      "metadata": {
        "id": "e9-r9AkXPxby"
      },
      "execution_count": null,
      "outputs": []
    },
    {
      "cell_type": "markdown",
      "source": [
        "**Nested List**"
      ],
      "metadata": {
        "id": "T3B6kkd5lYx9"
      }
    },
    {
      "cell_type": "code",
      "source": [
        "lst1 = [1,2,3]\n",
        "lst2 =[4,5,6]\n",
        "lst3 = [7,8,9] "
      ],
      "metadata": {
        "id": "UQ4rveAklc0z"
      },
      "execution_count": null,
      "outputs": []
    },
    {
      "cell_type": "code",
      "source": [
        "nested_list= [lst1,lst2,lst3]\n",
        "nested_list"
      ],
      "metadata": {
        "colab": {
          "base_uri": "https://localhost:8080/"
        },
        "id": "TLCVWSiQljqh",
        "outputId": "dc8553e7-3bee-497e-fda1-5d17aa55b692"
      },
      "execution_count": null,
      "outputs": [
        {
          "output_type": "execute_result",
          "data": {
            "text/plain": [
              "[[1, 2, 3], [4, 5, 6], [7, 8, 9]]"
            ]
          },
          "metadata": {},
          "execution_count": 113
        }
      ]
    },
    {
      "cell_type": "code",
      "source": [
        "nested_list[2][2]"
      ],
      "metadata": {
        "colab": {
          "base_uri": "https://localhost:8080/"
        },
        "id": "6rQS9ThFln4O",
        "outputId": "8ef5b639-adbe-47d9-83e9-3ec3f90d129c"
      },
      "execution_count": null,
      "outputs": [
        {
          "output_type": "execute_result",
          "data": {
            "text/plain": [
              "9"
            ]
          },
          "metadata": {},
          "execution_count": 114
        }
      ]
    },
    {
      "cell_type": "markdown",
      "source": [
        "**Tuples**"
      ],
      "metadata": {
        "id": "o4OKbXqylt0Q"
      }
    },
    {
      "cell_type": "code",
      "source": [
        "student_name = (\"temmy\", \"sammy\",\"jide\")\n",
        "student_name"
      ],
      "metadata": {
        "colab": {
          "base_uri": "https://localhost:8080/"
        },
        "id": "xN_1c1m1l6m7",
        "outputId": "3afe05e4-155d-4e6f-c946-1f26a7b54c32"
      },
      "execution_count": null,
      "outputs": [
        {
          "output_type": "execute_result",
          "data": {
            "text/plain": [
              "('temmy', 'sammy', 'jide')"
            ]
          },
          "metadata": {},
          "execution_count": 115
        }
      ]
    },
    {
      "cell_type": "code",
      "source": [
        "type(student_name)"
      ],
      "metadata": {
        "colab": {
          "base_uri": "https://localhost:8080/"
        },
        "id": "RteGexMBmG9H",
        "outputId": "e11afc24-9135-4a84-864e-60ca22883683"
      },
      "execution_count": null,
      "outputs": [
        {
          "output_type": "execute_result",
          "data": {
            "text/plain": [
              "tuple"
            ]
          },
          "metadata": {},
          "execution_count": 116
        }
      ]
    },
    {
      "cell_type": "code",
      "source": [
        "student_info = (\"temmy\",40,True,\"jide\",50,False,'kemi',100,False)"
      ],
      "metadata": {
        "id": "7GkL9D9GmMHo"
      },
      "execution_count": null,
      "outputs": []
    },
    {
      "cell_type": "markdown",
      "source": [
        "**Properties of a Tuple**"
      ],
      "metadata": {
        "id": "8ihNHmiwtP2w"
      }
    },
    {
      "cell_type": "code",
      "source": [
        "student_info[0] = \"dammy\""
      ],
      "metadata": {
        "id": "EYx63C0luTnk"
      },
      "execution_count": null,
      "outputs": []
    },
    {
      "cell_type": "code",
      "source": [
        "student_info + (\"shola\",)"
      ],
      "metadata": {
        "colab": {
          "base_uri": "https://localhost:8080/"
        },
        "id": "okvvxP3ZuUkH",
        "outputId": "2aa90f94-3919-4404-ea66-20b60f953732"
      },
      "execution_count": null,
      "outputs": [
        {
          "output_type": "execute_result",
          "data": {
            "text/plain": [
              "('temmy', 40, True, 'jide', 50, False, 'kemi', 100, False, 'shola')"
            ]
          },
          "metadata": {},
          "execution_count": 119
        }
      ]
    },
    {
      "cell_type": "code",
      "source": [
        "t = (1,)*3"
      ],
      "metadata": {
        "id": "8tm-_mmtudYX"
      },
      "execution_count": null,
      "outputs": []
    },
    {
      "cell_type": "code",
      "source": [
        "t"
      ],
      "metadata": {
        "colab": {
          "base_uri": "https://localhost:8080/"
        },
        "id": "NSg1przPuhY2",
        "outputId": "f5dea403-a4aa-4804-839f-ae8bce48166d"
      },
      "execution_count": null,
      "outputs": [
        {
          "output_type": "execute_result",
          "data": {
            "text/plain": [
              "(1, 1, 1)"
            ]
          },
          "metadata": {},
          "execution_count": 121
        }
      ]
    },
    {
      "cell_type": "code",
      "source": [
        "student_info[0:-2]"
      ],
      "metadata": {
        "colab": {
          "base_uri": "https://localhost:8080/"
        },
        "id": "Uu-Hn_IpummL",
        "outputId": "9db9a960-8cc6-493d-9ffd-10b5c633733b"
      },
      "execution_count": null,
      "outputs": [
        {
          "output_type": "execute_result",
          "data": {
            "text/plain": [
              "('temmy', 40, True, 'jide', 50, False, 'kemi')"
            ]
          },
          "metadata": {},
          "execution_count": 122
        }
      ]
    },
    {
      "cell_type": "code",
      "source": [
        "student_info"
      ],
      "metadata": {
        "colab": {
          "base_uri": "https://localhost:8080/"
        },
        "id": "vAX817hJvQVV",
        "outputId": "fdbd2f81-a801-44d2-a366-02a9c0e253e2"
      },
      "execution_count": null,
      "outputs": [
        {
          "output_type": "execute_result",
          "data": {
            "text/plain": [
              "('temmy', 40, True, 'jide', 50, False, 'kemi', 100, False)"
            ]
          },
          "metadata": {},
          "execution_count": 123
        }
      ]
    },
    {
      "cell_type": "code",
      "source": [
        "student_info.index(40)"
      ],
      "metadata": {
        "colab": {
          "base_uri": "https://localhost:8080/"
        },
        "id": "9DPL4klFvUZv",
        "outputId": "d51e7f84-1060-448a-eec6-cf62c1d03bfc"
      },
      "execution_count": null,
      "outputs": [
        {
          "output_type": "execute_result",
          "data": {
            "text/plain": [
              "1"
            ]
          },
          "metadata": {},
          "execution_count": 124
        }
      ]
    },
    {
      "cell_type": "code",
      "source": [
        "student_info.count(False)"
      ],
      "metadata": {
        "colab": {
          "base_uri": "https://localhost:8080/"
        },
        "id": "qV0uTuD8vZdj",
        "outputId": "aff51b76-96e0-4472-a0b2-b6c3790be86f"
      },
      "execution_count": null,
      "outputs": [
        {
          "output_type": "execute_result",
          "data": {
            "text/plain": [
              "2"
            ]
          },
          "metadata": {},
          "execution_count": 125
        }
      ]
    },
    {
      "cell_type": "code",
      "source": [
        "t1 = (1,2,3)\n",
        "t2 = (4,5,6)\n",
        "t1+t2"
      ],
      "metadata": {
        "colab": {
          "base_uri": "https://localhost:8080/"
        },
        "id": "nXXUPGXNvdku",
        "outputId": "95cc8495-c07a-4646-ee65-6339e3558825"
      },
      "execution_count": null,
      "outputs": [
        {
          "output_type": "execute_result",
          "data": {
            "text/plain": [
              "(1, 2, 3, 4, 5, 6)"
            ]
          },
          "metadata": {},
          "execution_count": 126
        }
      ]
    },
    {
      "cell_type": "code",
      "source": [
        "t1 += 4,5,6\n",
        "t1"
      ],
      "metadata": {
        "colab": {
          "base_uri": "https://localhost:8080/"
        },
        "id": "hJv2erocviU9",
        "outputId": "bd1540e9-7a4e-4f0a-b372-ffb840380cde"
      },
      "execution_count": null,
      "outputs": [
        {
          "output_type": "execute_result",
          "data": {
            "text/plain": [
              "(1, 2, 3, 4, 5, 6)"
            ]
          },
          "metadata": {},
          "execution_count": 127
        }
      ]
    },
    {
      "cell_type": "markdown",
      "source": [
        "**Unpacking Tuples**"
      ],
      "metadata": {
        "id": "1o0qQM6WvvRD"
      }
    },
    {
      "cell_type": "code",
      "source": [
        "t = (1,2,3,4)"
      ],
      "metadata": {
        "id": "ILB49gyRv10Y"
      },
      "execution_count": null,
      "outputs": []
    },
    {
      "cell_type": "code",
      "source": [
        "w,x,y,z = t"
      ],
      "metadata": {
        "id": "ewxzcv85v6Kd"
      },
      "execution_count": null,
      "outputs": []
    },
    {
      "cell_type": "code",
      "source": [
        "t[3]"
      ],
      "metadata": {
        "colab": {
          "base_uri": "https://localhost:8080/"
        },
        "id": "nmFA7xkfv-KY",
        "outputId": "1837b75d-fd8e-47c7-b6ed-552650742ef6"
      },
      "execution_count": null,
      "outputs": [
        {
          "output_type": "execute_result",
          "data": {
            "text/plain": [
              "4"
            ]
          },
          "metadata": {},
          "execution_count": 130
        }
      ]
    },
    {
      "cell_type": "code",
      "source": [
        "x"
      ],
      "metadata": {
        "colab": {
          "base_uri": "https://localhost:8080/"
        },
        "id": "RYxKGP5_wCAe",
        "outputId": "73083e0c-2046-4c24-f82b-5e98f0badc00"
      },
      "execution_count": null,
      "outputs": [
        {
          "output_type": "execute_result",
          "data": {
            "text/plain": [
              "2"
            ]
          },
          "metadata": {},
          "execution_count": 131
        }
      ]
    },
    {
      "cell_type": "markdown",
      "source": [
        "**Dictionaries**"
      ],
      "metadata": {
        "id": "lsqzeLQLwHD8"
      }
    },
    {
      "cell_type": "code",
      "source": [
        "d = {}"
      ],
      "metadata": {
        "id": "gqPiywDdwQnt"
      },
      "execution_count": null,
      "outputs": []
    },
    {
      "cell_type": "code",
      "source": [
        "type(d)"
      ],
      "metadata": {
        "colab": {
          "base_uri": "https://localhost:8080/"
        },
        "id": "01K4YS5swVZ9",
        "outputId": "98a8ff3d-5511-4458-fcbc-765e9180a88d"
      },
      "execution_count": null,
      "outputs": [
        {
          "output_type": "execute_result",
          "data": {
            "text/plain": [
              "dict"
            ]
          },
          "metadata": {},
          "execution_count": 133
        }
      ]
    },
    {
      "cell_type": "code",
      "source": [
        "d2 = dict()\n",
        "type(d2)"
      ],
      "metadata": {
        "colab": {
          "base_uri": "https://localhost:8080/"
        },
        "id": "kGZ0t0pFwcyy",
        "outputId": "d8b44318-f20f-4b2c-80fc-52660397ca9d"
      },
      "execution_count": null,
      "outputs": [
        {
          "output_type": "execute_result",
          "data": {
            "text/plain": [
              "dict"
            ]
          },
          "metadata": {},
          "execution_count": 134
        }
      ]
    },
    {
      "cell_type": "code",
      "source": [
        "dict1 = {'Key1':'value1', 'Key2':'value2'}\n",
        "dict1"
      ],
      "metadata": {
        "colab": {
          "base_uri": "https://localhost:8080/"
        },
        "id": "WODiM3XlwlqE",
        "outputId": "278170ac-7436-4b98-9e07-2f8f686fc8f6"
      },
      "execution_count": null,
      "outputs": [
        {
          "output_type": "execute_result",
          "data": {
            "text/plain": [
              "{'Key1': 'value1', 'Key2': 'value2'}"
            ]
          },
          "metadata": {},
          "execution_count": 135
        }
      ]
    },
    {
      "cell_type": "code",
      "source": [
        "dict1['Key2']"
      ],
      "metadata": {
        "colab": {
          "base_uri": "https://localhost:8080/",
          "height": 35
        },
        "id": "45R0mLnuwnZH",
        "outputId": "9675ca1a-06c2-4dc4-b57d-bf0986a9922c"
      },
      "execution_count": null,
      "outputs": [
        {
          "output_type": "execute_result",
          "data": {
            "text/plain": [
              "'value2'"
            ],
            "application/vnd.google.colaboratory.intrinsic+json": {
              "type": "string"
            }
          },
          "metadata": {},
          "execution_count": 136
        }
      ]
    },
    {
      "cell_type": "code",
      "source": [
        "dict1 = {1:'value1', 2:True}\n",
        "dict1[1]"
      ],
      "metadata": {
        "colab": {
          "base_uri": "https://localhost:8080/",
          "height": 35
        },
        "id": "YCqoITeewsDF",
        "outputId": "f0ed440f-5ac7-47d6-91c8-51e4a9b1dc62"
      },
      "execution_count": null,
      "outputs": [
        {
          "output_type": "execute_result",
          "data": {
            "text/plain": [
              "'value1'"
            ],
            "application/vnd.google.colaboratory.intrinsic+json": {
              "type": "string"
            }
          },
          "metadata": {},
          "execution_count": 137
        }
      ]
    },
    {
      "cell_type": "code",
      "source": [
        "same_keys = {'brand':'google',\n",
        "            \"brand\":'zacrac'}"
      ],
      "metadata": {
        "id": "28M1OJ9hxjxg"
      },
      "execution_count": null,
      "outputs": []
    },
    {
      "cell_type": "code",
      "source": [
        "same_keys"
      ],
      "metadata": {
        "colab": {
          "base_uri": "https://localhost:8080/"
        },
        "id": "MA5y3wC7xmCB",
        "outputId": "106a5944-484a-415e-ca7b-a8118ce6d088"
      },
      "execution_count": null,
      "outputs": [
        {
          "output_type": "execute_result",
          "data": {
            "text/plain": [
              "{'brand': 'zacrac'}"
            ]
          },
          "metadata": {},
          "execution_count": 139
        }
      ]
    },
    {
      "cell_type": "code",
      "source": [
        "dict1 = {'key1':[1,2,3],\n",
        "        'key2':('temmy','john','shola')}"
      ],
      "metadata": {
        "id": "KpgRugdBxr-W"
      },
      "execution_count": null,
      "outputs": []
    },
    {
      "cell_type": "code",
      "source": [
        "len(dict1)"
      ],
      "metadata": {
        "colab": {
          "base_uri": "https://localhost:8080/"
        },
        "id": "xfMbDD5OxxAo",
        "outputId": "feb353da-4bc8-4679-86e8-0d3a2649ba96"
      },
      "execution_count": null,
      "outputs": [
        {
          "output_type": "execute_result",
          "data": {
            "text/plain": [
              "2"
            ]
          },
          "metadata": {},
          "execution_count": 141
        }
      ]
    },
    {
      "cell_type": "code",
      "source": [
        "dict1['key2'][1]"
      ],
      "metadata": {
        "colab": {
          "base_uri": "https://localhost:8080/",
          "height": 35
        },
        "id": "N1bdFfhdx0hl",
        "outputId": "d6eee4f0-13e1-499c-a160-736003c3629b"
      },
      "execution_count": null,
      "outputs": [
        {
          "output_type": "execute_result",
          "data": {
            "text/plain": [
              "'john'"
            ],
            "application/vnd.google.colaboratory.intrinsic+json": {
              "type": "string"
            }
          },
          "metadata": {},
          "execution_count": 142
        }
      ]
    },
    {
      "cell_type": "code",
      "source": [
        "d = { }"
      ],
      "metadata": {
        "id": "ZEaOrP8dx3la"
      },
      "execution_count": null,
      "outputs": []
    },
    {
      "cell_type": "code",
      "source": [
        "d['name'] = 'yemmy'"
      ],
      "metadata": {
        "id": "d2JfzAgSx-Gs"
      },
      "execution_count": null,
      "outputs": []
    },
    {
      "cell_type": "code",
      "source": [
        "d"
      ],
      "metadata": {
        "colab": {
          "base_uri": "https://localhost:8080/"
        },
        "id": "dzMKnVOsyBR-",
        "outputId": "0231edf9-71f5-48f9-d019-b63479744097"
      },
      "execution_count": null,
      "outputs": [
        {
          "output_type": "execute_result",
          "data": {
            "text/plain": [
              "{'name': 'yemmy'}"
            ]
          },
          "metadata": {},
          "execution_count": 145
        }
      ]
    },
    {
      "cell_type": "markdown",
      "source": [
        "**Dictionary Methods**"
      ],
      "metadata": {
        "id": "fVhhsIXyyKD3"
      }
    },
    {
      "cell_type": "code",
      "source": [
        "dict1.items()"
      ],
      "metadata": {
        "colab": {
          "base_uri": "https://localhost:8080/"
        },
        "id": "qfEyYPCKyd_H",
        "outputId": "5e474eaf-ae94-4b7b-aa3c-cad2a9a96e6d"
      },
      "execution_count": null,
      "outputs": [
        {
          "output_type": "execute_result",
          "data": {
            "text/plain": [
              "dict_items([('key1', [1, 2, 3]), ('key2', ('temmy', 'john', 'shola'))])"
            ]
          },
          "metadata": {},
          "execution_count": 146
        }
      ]
    },
    {
      "cell_type": "code",
      "source": [
        "dict1.keys()"
      ],
      "metadata": {
        "colab": {
          "base_uri": "https://localhost:8080/"
        },
        "id": "3RQuZ-YAykPi",
        "outputId": "81ffe56b-ba53-4b65-e879-8fbc5d0f398d"
      },
      "execution_count": null,
      "outputs": [
        {
          "output_type": "execute_result",
          "data": {
            "text/plain": [
              "dict_keys(['key1', 'key2'])"
            ]
          },
          "metadata": {},
          "execution_count": 147
        }
      ]
    },
    {
      "cell_type": "code",
      "source": [
        "dict1.values()"
      ],
      "metadata": {
        "colab": {
          "base_uri": "https://localhost:8080/"
        },
        "id": "eCNUVdeAynbx",
        "outputId": "80bb0897-809c-4662-ae34-1e36a3354cec"
      },
      "execution_count": null,
      "outputs": [
        {
          "output_type": "execute_result",
          "data": {
            "text/plain": [
              "dict_values([[1, 2, 3], ('temmy', 'john', 'shola')])"
            ]
          },
          "metadata": {},
          "execution_count": 148
        }
      ]
    },
    {
      "cell_type": "code",
      "source": [
        "dict1.pop('key1')"
      ],
      "metadata": {
        "colab": {
          "base_uri": "https://localhost:8080/"
        },
        "id": "j8ZK6Pkdyvaq",
        "outputId": "523ef8af-2365-4fa6-9440-08a5446bd273"
      },
      "execution_count": null,
      "outputs": [
        {
          "output_type": "execute_result",
          "data": {
            "text/plain": [
              "[1, 2, 3]"
            ]
          },
          "metadata": {},
          "execution_count": 149
        }
      ]
    },
    {
      "cell_type": "code",
      "source": [
        "new_dict =dict1.copy()"
      ],
      "metadata": {
        "id": "2_tCLb0cyy6T"
      },
      "execution_count": null,
      "outputs": []
    },
    {
      "cell_type": "code",
      "source": [
        "new_dict"
      ],
      "metadata": {
        "colab": {
          "base_uri": "https://localhost:8080/"
        },
        "id": "x1fdSJZdy5_j",
        "outputId": "1c48844a-9fe9-4d55-f671-5aaee10c16e6"
      },
      "execution_count": null,
      "outputs": [
        {
          "output_type": "execute_result",
          "data": {
            "text/plain": [
              "{'key2': ('temmy', 'john', 'shola')}"
            ]
          },
          "metadata": {},
          "execution_count": 151
        }
      ]
    },
    {
      "cell_type": "code",
      "source": [
        "dict1"
      ],
      "metadata": {
        "colab": {
          "base_uri": "https://localhost:8080/"
        },
        "id": "RisQDxfcy7mx",
        "outputId": "d66a8215-d2cf-41e7-da1b-5a04a5606557"
      },
      "execution_count": null,
      "outputs": [
        {
          "output_type": "execute_result",
          "data": {
            "text/plain": [
              "{'key2': ('temmy', 'john', 'shola')}"
            ]
          },
          "metadata": {},
          "execution_count": 152
        }
      ]
    },
    {
      "cell_type": "code",
      "source": [
        "dict1.clear()"
      ],
      "metadata": {
        "id": "EG30Tuyxy_7A"
      },
      "execution_count": null,
      "outputs": []
    },
    {
      "cell_type": "code",
      "source": [
        "dict1"
      ],
      "metadata": {
        "colab": {
          "base_uri": "https://localhost:8080/"
        },
        "id": "y3qMiWJhzErk",
        "outputId": "c8fc1218-b6f6-4388-f23b-57f43c795233"
      },
      "execution_count": null,
      "outputs": [
        {
          "output_type": "execute_result",
          "data": {
            "text/plain": [
              "{}"
            ]
          },
          "metadata": {},
          "execution_count": 154
        }
      ]
    },
    {
      "cell_type": "code",
      "source": [
        "## .update\n",
        "brand1 = {'GGL':'Google'}\n",
        "brand2 ={'NFLX':'Netflix'}"
      ],
      "metadata": {
        "id": "EZ_hPF7CzLWg"
      },
      "execution_count": null,
      "outputs": []
    },
    {
      "cell_type": "code",
      "source": [
        "brand1.update(brand2)"
      ],
      "metadata": {
        "id": "qlAulFgkzNZh"
      },
      "execution_count": null,
      "outputs": []
    },
    {
      "cell_type": "code",
      "source": [
        "brand1"
      ],
      "metadata": {
        "id": "_uKNuaPIzU3_"
      },
      "execution_count": null,
      "outputs": []
    },
    {
      "cell_type": "code",
      "source": [
        "new_brand={}\n",
        "new_brand.update(brand1)\n",
        "new_brand.update(brand2)"
      ],
      "metadata": {
        "id": "iIbqY96szWYX"
      },
      "execution_count": null,
      "outputs": []
    },
    {
      "cell_type": "code",
      "source": [
        "new_brand"
      ],
      "metadata": {
        "colab": {
          "base_uri": "https://localhost:8080/"
        },
        "id": "b7vPvxRyzbFC",
        "outputId": "683b31a7-46fe-4ce9-b782-427c3eca58df"
      },
      "execution_count": null,
      "outputs": [
        {
          "output_type": "execute_result",
          "data": {
            "text/plain": [
              "{'GGL': 'Google', 'NFLX': 'Netflix'}"
            ]
          },
          "metadata": {},
          "execution_count": 159
        }
      ]
    },
    {
      "cell_type": "markdown",
      "source": [
        "**Nested Dictionary**"
      ],
      "metadata": {
        "id": "ERDdbVTYzkpJ"
      }
    },
    {
      "cell_type": "code",
      "source": [
        "d = {'key1':{'nestkey':{'subnestkey':'value'}}}"
      ],
      "metadata": {
        "id": "obAC4ARyzwGE"
      },
      "execution_count": null,
      "outputs": []
    },
    {
      "cell_type": "code",
      "source": [
        "d['key1']['nestkey']"
      ],
      "metadata": {
        "colab": {
          "base_uri": "https://localhost:8080/"
        },
        "id": "Ib4_zTZdz2wM",
        "outputId": "6444d618-6ac7-46ee-c86d-d43d24d03b87"
      },
      "execution_count": null,
      "outputs": [
        {
          "output_type": "execute_result",
          "data": {
            "text/plain": [
              "{'subnestkey': 'value'}"
            ]
          },
          "metadata": {},
          "execution_count": 162
        }
      ]
    },
    {
      "cell_type": "markdown",
      "source": [
        "**Set**"
      ],
      "metadata": {
        "id": "QVKf4U-wz80Y"
      }
    },
    {
      "cell_type": "code",
      "source": [
        "company = {'Apple',\"Microsoft\",\"Netflix\",\"Apple\"}\n",
        "company"
      ],
      "metadata": {
        "colab": {
          "base_uri": "https://localhost:8080/"
        },
        "id": "kpUQzjEO0AVO",
        "outputId": "16f4dc67-b587-4a5f-9c9f-8981ef735291"
      },
      "execution_count": null,
      "outputs": [
        {
          "output_type": "execute_result",
          "data": {
            "text/plain": [
              "{'Apple', 'Microsoft', 'Netflix'}"
            ]
          },
          "metadata": {},
          "execution_count": 163
        }
      ]
    },
    {
      "cell_type": "code",
      "source": [
        "company.add('Zacrac')"
      ],
      "metadata": {
        "id": "QJIRUxOs0Fz2"
      },
      "execution_count": null,
      "outputs": []
    },
    {
      "cell_type": "code",
      "source": [
        "company"
      ],
      "metadata": {
        "colab": {
          "base_uri": "https://localhost:8080/"
        },
        "id": "fbC3wvnt0KA5",
        "outputId": "2f6823da-a0f8-4fb6-95d2-b88cb7569bfd"
      },
      "execution_count": null,
      "outputs": [
        {
          "output_type": "execute_result",
          "data": {
            "text/plain": [
              "{'Apple', 'Microsoft', 'Netflix', 'Zacrac'}"
            ]
          },
          "metadata": {},
          "execution_count": 165
        }
      ]
    },
    {
      "cell_type": "code",
      "source": [
        "len(company)"
      ],
      "metadata": {
        "colab": {
          "base_uri": "https://localhost:8080/"
        },
        "id": "4nj6AiLZ0f9V",
        "outputId": "5942f497-2d38-419c-b840-6ba9f09ce97a"
      },
      "execution_count": null,
      "outputs": [
        {
          "output_type": "execute_result",
          "data": {
            "text/plain": [
              "4"
            ]
          },
          "metadata": {},
          "execution_count": 166
        }
      ]
    },
    {
      "cell_type": "code",
      "source": [
        "company.discard('zacrac')"
      ],
      "metadata": {
        "id": "p1jjdFTV0jTN"
      },
      "execution_count": null,
      "outputs": []
    },
    {
      "cell_type": "code",
      "source": [
        "company"
      ],
      "metadata": {
        "colab": {
          "base_uri": "https://localhost:8080/"
        },
        "id": "bbaAUB950oj3",
        "outputId": "5936bdfd-4ca3-43bf-c8c2-93e9eb69ec9d"
      },
      "execution_count": null,
      "outputs": [
        {
          "output_type": "execute_result",
          "data": {
            "text/plain": [
              "{'Apple', 'Microsoft', 'Netflix', 'Zacrac'}"
            ]
          },
          "metadata": {},
          "execution_count": 168
        }
      ]
    },
    {
      "cell_type": "code",
      "source": [
        "set1 = {1,2,3,4}\n",
        "set2 = {10,20,30}"
      ],
      "metadata": {
        "id": "UD18BbVd0sgW"
      },
      "execution_count": null,
      "outputs": []
    },
    {
      "cell_type": "code",
      "source": [
        "new_set = set1.union(set2)"
      ],
      "metadata": {
        "id": "D9wRmknL0wwB"
      },
      "execution_count": null,
      "outputs": []
    },
    {
      "cell_type": "code",
      "source": [
        "new_set"
      ],
      "metadata": {
        "colab": {
          "base_uri": "https://localhost:8080/"
        },
        "id": "K0DjhvAi0037",
        "outputId": "e48c929b-7d32-4ccb-8871-34e78cd42ead"
      },
      "execution_count": null,
      "outputs": [
        {
          "output_type": "execute_result",
          "data": {
            "text/plain": [
              "{1, 2, 3, 4, 10, 20, 30}"
            ]
          },
          "metadata": {},
          "execution_count": 171
        }
      ]
    },
    {
      "cell_type": "code",
      "source": [
        "new_set.intersection(set1)"
      ],
      "metadata": {
        "colab": {
          "base_uri": "https://localhost:8080/"
        },
        "id": "EtdckmrR06TW",
        "outputId": "4af7bf0c-7027-421e-e114-64daedca4ad9"
      },
      "execution_count": null,
      "outputs": [
        {
          "output_type": "execute_result",
          "data": {
            "text/plain": [
              "{1, 2, 3, 4}"
            ]
          },
          "metadata": {},
          "execution_count": 172
        }
      ]
    },
    {
      "cell_type": "code",
      "source": [
        "new_set.difference(set1)"
      ],
      "metadata": {
        "colab": {
          "base_uri": "https://localhost:8080/"
        },
        "id": "Yk12hbR808Fi",
        "outputId": "b3f525e1-05b0-4f34-a7eb-0c2e934c7faf"
      },
      "execution_count": null,
      "outputs": [
        {
          "output_type": "execute_result",
          "data": {
            "text/plain": [
              "{10, 20, 30}"
            ]
          },
          "metadata": {},
          "execution_count": 173
        }
      ]
    },
    {
      "cell_type": "markdown",
      "source": [
        "**Files**"
      ],
      "metadata": {
        "id": "D5TOXzFU1A_f"
      }
    },
    {
      "cell_type": "code",
      "source": [
        "%%writefile test1.txt\n",
        "Hello, this is incubator classsss!!!!"
      ],
      "metadata": {
        "colab": {
          "base_uri": "https://localhost:8080/"
        },
        "id": "pVNOXhbb1E4N",
        "outputId": "e3264ad0-057f-4634-f255-37adbbf8c0a3"
      },
      "execution_count": null,
      "outputs": [
        {
          "output_type": "stream",
          "name": "stdout",
          "text": [
            "Writing test1.txt\n"
          ]
        }
      ]
    },
    {
      "cell_type": "markdown",
      "source": [
        "**Opening a File**"
      ],
      "metadata": {
        "id": "QsyK1awD1bY_"
      }
    },
    {
      "cell_type": "code",
      "source": [
        "myfile = open('test1.txt')"
      ],
      "metadata": {
        "id": "XZ3HQ3KO2Ck7"
      },
      "execution_count": null,
      "outputs": []
    },
    {
      "cell_type": "code",
      "source": [
        "myfile.read()"
      ],
      "metadata": {
        "colab": {
          "base_uri": "https://localhost:8080/",
          "height": 35
        },
        "id": "ZMX2P4lo2IEI",
        "outputId": "24e84a5b-ef73-47e2-b4ee-dd3904e896e6"
      },
      "execution_count": null,
      "outputs": [
        {
          "output_type": "execute_result",
          "data": {
            "text/plain": [
              "'Hello, this is incubator classsss!!!!'"
            ],
            "application/vnd.google.colaboratory.intrinsic+json": {
              "type": "string"
            }
          },
          "metadata": {},
          "execution_count": 176
        }
      ]
    },
    {
      "cell_type": "code",
      "source": [
        "myfile.read()"
      ],
      "metadata": {
        "colab": {
          "base_uri": "https://localhost:8080/",
          "height": 35
        },
        "id": "JQzBvzjg2Omx",
        "outputId": "ad3ec6fb-aed8-4483-b268-a842f8ffa751"
      },
      "execution_count": null,
      "outputs": [
        {
          "output_type": "execute_result",
          "data": {
            "text/plain": [
              "''"
            ],
            "application/vnd.google.colaboratory.intrinsic+json": {
              "type": "string"
            }
          },
          "metadata": {},
          "execution_count": 177
        }
      ]
    },
    {
      "cell_type": "code",
      "source": [
        "myfile.seek(0)"
      ],
      "metadata": {
        "colab": {
          "base_uri": "https://localhost:8080/"
        },
        "id": "CL2x9j282Y7l",
        "outputId": "821de57d-590b-4d75-8f40-1e1e61207e55"
      },
      "execution_count": null,
      "outputs": [
        {
          "output_type": "execute_result",
          "data": {
            "text/plain": [
              "0"
            ]
          },
          "metadata": {},
          "execution_count": 178
        }
      ]
    },
    {
      "cell_type": "code",
      "source": [
        "myfile.read()"
      ],
      "metadata": {
        "colab": {
          "base_uri": "https://localhost:8080/",
          "height": 35
        },
        "id": "knT__mke2dg6",
        "outputId": "c44f4894-ffb6-4962-ef5a-39e3cb2aa863"
      },
      "execution_count": null,
      "outputs": [
        {
          "output_type": "execute_result",
          "data": {
            "text/plain": [
              "'Hello, this is incubator classsss!!!!'"
            ],
            "application/vnd.google.colaboratory.intrinsic+json": {
              "type": "string"
            }
          },
          "metadata": {},
          "execution_count": 179
        }
      ]
    },
    {
      "cell_type": "code",
      "source": [
        "myfile.seek(0)\n",
        "myfile.readlines()"
      ],
      "metadata": {
        "colab": {
          "base_uri": "https://localhost:8080/"
        },
        "id": "EdFLPvF_2hm-",
        "outputId": "70e312ed-1cd3-4fd7-ccef-e34615c8b928"
      },
      "execution_count": null,
      "outputs": [
        {
          "output_type": "execute_result",
          "data": {
            "text/plain": [
              "['Hello, this is incubator classsss!!!!']"
            ]
          },
          "metadata": {},
          "execution_count": 180
        }
      ]
    },
    {
      "cell_type": "code",
      "source": [
        "myfile.close()"
      ],
      "metadata": {
        "id": "1p1NjIX72jqO"
      },
      "execution_count": null,
      "outputs": []
    },
    {
      "cell_type": "markdown",
      "source": [
        "**Writing a File**"
      ],
      "metadata": {
        "id": "_6SLgOrD2qtg"
      }
    },
    {
      "cell_type": "code",
      "source": [
        "my_file = open('test1.txt','w+')"
      ],
      "metadata": {
        "id": "B2-Gie5H2u3w"
      },
      "execution_count": null,
      "outputs": []
    },
    {
      "cell_type": "code",
      "source": [
        "my_file.write('This is a fresh begining')"
      ],
      "metadata": {
        "colab": {
          "base_uri": "https://localhost:8080/"
        },
        "id": "mqFcCGZw20iC",
        "outputId": "73167062-a90b-4bf4-8362-0dce67a33ed8"
      },
      "execution_count": null,
      "outputs": [
        {
          "output_type": "execute_result",
          "data": {
            "text/plain": [
              "24"
            ]
          },
          "metadata": {},
          "execution_count": 183
        }
      ]
    },
    {
      "cell_type": "code",
      "source": [
        "my_file.seek(0)\n",
        "my_file.read()"
      ],
      "metadata": {
        "colab": {
          "base_uri": "https://localhost:8080/",
          "height": 35
        },
        "id": "Vt4vS1kH26mL",
        "outputId": "55eb7188-d9ac-44be-ef8a-40fdc182abc1"
      },
      "execution_count": null,
      "outputs": [
        {
          "output_type": "execute_result",
          "data": {
            "text/plain": [
              "'This is a fresh begining'"
            ],
            "application/vnd.google.colaboratory.intrinsic+json": {
              "type": "string"
            }
          },
          "metadata": {},
          "execution_count": 184
        }
      ]
    },
    {
      "cell_type": "code",
      "source": [
        "my_file.close()"
      ],
      "metadata": {
        "id": "K9evCrk-3E6Q"
      },
      "execution_count": null,
      "outputs": []
    },
    {
      "cell_type": "markdown",
      "source": [
        "**Appending to a File**"
      ],
      "metadata": {
        "id": "mgRM379z3I8S"
      }
    },
    {
      "cell_type": "code",
      "source": [
        "my_file = open('test2.txt','a+')"
      ],
      "metadata": {
        "id": "1THG8EYw3jnZ"
      },
      "execution_count": null,
      "outputs": []
    },
    {
      "cell_type": "code",
      "source": [
        "my_file.write('\\nThis is a text being appended to this file ')\n",
        "my_file.write('\\n and another line included ')"
      ],
      "metadata": {
        "colab": {
          "base_uri": "https://localhost:8080/"
        },
        "id": "_V5L_Ks_3nl7",
        "outputId": "0edaf484-9abd-4ad9-afa6-8b014d879a19"
      },
      "execution_count": null,
      "outputs": [
        {
          "output_type": "execute_result",
          "data": {
            "text/plain": [
              "28"
            ]
          },
          "metadata": {},
          "execution_count": 187
        }
      ]
    },
    {
      "cell_type": "code",
      "source": [
        "my_file.seek(0)\n",
        "print(my_file.read())"
      ],
      "metadata": {
        "colab": {
          "base_uri": "https://localhost:8080/"
        },
        "id": "Po5tW2ji34sE",
        "outputId": "4de1f3e1-e95f-4c0d-84cf-48ff23d9e1f8"
      },
      "execution_count": null,
      "outputs": [
        {
          "output_type": "stream",
          "name": "stdout",
          "text": [
            "\n",
            "This is a text being appended to this file \n",
            " and another line included \n"
          ]
        }
      ]
    },
    {
      "cell_type": "code",
      "source": [
        "my_file.close()"
      ],
      "metadata": {
        "id": "3K4Lh88-4Cei"
      },
      "execution_count": null,
      "outputs": []
    },
    {
      "cell_type": "markdown",
      "source": [
        "**%%writefile**"
      ],
      "metadata": {
        "id": "luOUw0g04I2V"
      }
    },
    {
      "cell_type": "code",
      "source": [
        "%%writefile -a test3.txt\n",
        "This is a new text file \n",
        "therefore, i can write on it anyhow "
      ],
      "metadata": {
        "colab": {
          "base_uri": "https://localhost:8080/"
        },
        "id": "s0Qd3oU_pooJ",
        "outputId": "49eb17d0-e1b0-450d-f601-ce57da9e0639"
      },
      "execution_count": null,
      "outputs": [
        {
          "output_type": "stream",
          "name": "stdout",
          "text": [
            "Writing test3.txt\n"
          ]
        }
      ]
    },
    {
      "cell_type": "code",
      "source": [
        "myfile = open('test3.txt')"
      ],
      "metadata": {
        "id": "-WeinrJnpr7t"
      },
      "execution_count": null,
      "outputs": []
    },
    {
      "cell_type": "code",
      "source": [
        "myfile.seek(0)\n",
        "print(myfile.read())"
      ],
      "metadata": {
        "colab": {
          "base_uri": "https://localhost:8080/"
        },
        "id": "xSzz4XgfqCbp",
        "outputId": "d10b7350-edcb-4e25-a315-7a3fdfdfa828"
      },
      "execution_count": null,
      "outputs": [
        {
          "output_type": "stream",
          "name": "stdout",
          "text": [
            "This is a new text file \n",
            "therefore, i can write on it anyhow \n"
          ]
        }
      ]
    },
    {
      "cell_type": "markdown",
      "source": [
        "Python Key words and Operators"
      ],
      "metadata": {
        "id": "TZ0YGeKsqI-c"
      }
    },
    {
      "cell_type": "code",
      "source": [
        "#and\n",
        "(1 ==1) and (2==2)"
      ],
      "metadata": {
        "colab": {
          "base_uri": "https://localhost:8080/"
        },
        "id": "PIc2_Hm6qXJz",
        "outputId": "53254298-4395-46ea-e9f9-e2f99dc22779"
      },
      "execution_count": null,
      "outputs": [
        {
          "output_type": "execute_result",
          "data": {
            "text/plain": [
              "True"
            ]
          },
          "metadata": {},
          "execution_count": 193
        }
      ]
    },
    {
      "cell_type": "code",
      "source": [
        "#or\n",
        "(1==1) or (2>=3)"
      ],
      "metadata": {
        "colab": {
          "base_uri": "https://localhost:8080/"
        },
        "id": "29lmIHtEqbdJ",
        "outputId": "2059b714-f01e-4820-85d5-89912fb7859d"
      },
      "execution_count": null,
      "outputs": [
        {
          "output_type": "execute_result",
          "data": {
            "text/plain": [
              "True"
            ]
          },
          "metadata": {},
          "execution_count": 194
        }
      ]
    },
    {
      "cell_type": "code",
      "source": [
        "# as\n",
        "import math as m"
      ],
      "metadata": {
        "id": "-6dlH1Eiqfdk"
      },
      "execution_count": null,
      "outputs": []
    },
    {
      "cell_type": "code",
      "source": [
        "#assert\n",
        "company = \"zacrac\""
      ],
      "metadata": {
        "id": "x_8R13j-qkEt"
      },
      "execution_count": null,
      "outputs": []
    },
    {
      "cell_type": "code",
      "source": [
        "#to check if this condition is true\n",
        "assert company == \"zacrac\""
      ],
      "metadata": {
        "id": "Epv9RkTsqoTy"
      },
      "execution_count": null,
      "outputs": []
    },
    {
      "cell_type": "code",
      "source": [
        "## class\n",
        "class course():\n",
        "    name = 'Python'\n",
        "    price = '500.5'"
      ],
      "metadata": {
        "id": "FGvai0pxquHp"
      },
      "execution_count": null,
      "outputs": []
    },
    {
      "cell_type": "code",
      "source": [
        "s1 = course()"
      ],
      "metadata": {
        "id": "FU29eUcfqxTf"
      },
      "execution_count": null,
      "outputs": []
    },
    {
      "cell_type": "code",
      "source": [
        "s1.name"
      ],
      "metadata": {
        "colab": {
          "base_uri": "https://localhost:8080/",
          "height": 35
        },
        "id": "DjXpZYi8q3p_",
        "outputId": "c410893a-aa7d-488d-bd32-462cbfabce6c"
      },
      "execution_count": null,
      "outputs": [
        {
          "output_type": "execute_result",
          "data": {
            "text/plain": [
              "'Python'"
            ],
            "application/vnd.google.colaboratory.intrinsic+json": {
              "type": "string"
            }
          },
          "metadata": {},
          "execution_count": 200
        }
      ]
    },
    {
      "cell_type": "code",
      "source": [
        "s1.price"
      ],
      "metadata": {
        "colab": {
          "base_uri": "https://localhost:8080/",
          "height": 35
        },
        "id": "_kBaopJWrSPF",
        "outputId": "073b6678-0eb1-4eca-eca5-9eafa838b6bf"
      },
      "execution_count": null,
      "outputs": [
        {
          "output_type": "execute_result",
          "data": {
            "text/plain": [
              "'500.5'"
            ],
            "application/vnd.google.colaboratory.intrinsic+json": {
              "type": "string"
            }
          },
          "metadata": {},
          "execution_count": 201
        }
      ]
    },
    {
      "cell_type": "code",
      "source": [
        "#def \n",
        "def func():\n",
        "    print('helloo')"
      ],
      "metadata": {
        "id": "yZA6drIwrYG5"
      },
      "execution_count": null,
      "outputs": []
    },
    {
      "cell_type": "code",
      "source": [
        "func()"
      ],
      "metadata": {
        "colab": {
          "base_uri": "https://localhost:8080/"
        },
        "id": "H3F0Xd30rcvc",
        "outputId": "05d8cd6c-5d96-42ef-d050-50c3bba0fb76"
      },
      "execution_count": null,
      "outputs": [
        {
          "output_type": "stream",
          "name": "stdout",
          "text": [
            "helloo\n"
          ]
        }
      ]
    },
    {
      "cell_type": "code",
      "source": [
        "# del \n",
        "a ='Hello'\n",
        "del(a)"
      ],
      "metadata": {
        "id": "E8Oe8JUsrhSk"
      },
      "execution_count": null,
      "outputs": []
    },
    {
      "cell_type": "code",
      "source": [
        "lst= ['a','b','c','d']"
      ],
      "metadata": {
        "id": "95bCasphrmbv"
      },
      "execution_count": null,
      "outputs": []
    },
    {
      "cell_type": "code",
      "source": [
        "del lst[1:3]"
      ],
      "metadata": {
        "id": "RQ-x7d0ZseWu"
      },
      "execution_count": null,
      "outputs": []
    },
    {
      "cell_type": "code",
      "source": [
        "lst"
      ],
      "metadata": {
        "colab": {
          "base_uri": "https://localhost:8080/"
        },
        "id": "5RuVKiRvshqL",
        "outputId": "43ab35c7-95b3-45a1-c2cd-e9a881d5bf46"
      },
      "execution_count": null,
      "outputs": [
        {
          "output_type": "execute_result",
          "data": {
            "text/plain": [
              "['a', 'd']"
            ]
          },
          "metadata": {},
          "execution_count": 207
        }
      ]
    },
    {
      "cell_type": "code",
      "source": [
        "#try and except \n",
        "try:\n",
        "    u > 10\n",
        "except:\n",
        "    print('something is wrong: tell me that is not found')"
      ],
      "metadata": {
        "colab": {
          "base_uri": "https://localhost:8080/"
        },
        "id": "n7AMvJZespR8",
        "outputId": "ad80995c-954d-4410-fb8c-4ada7f7b1198"
      },
      "execution_count": null,
      "outputs": [
        {
          "output_type": "stream",
          "name": "stdout",
          "text": [
            "something is wrong: tell me that is not found\n"
          ]
        }
      ]
    },
    {
      "cell_type": "code",
      "source": [
        "#Finally\n",
        "try:\n",
        "    u > 10\n",
        "except:\n",
        "    print('something is wrong: tell me that is not found')\n",
        "finally:\n",
        "    print('The try...except code is done')"
      ],
      "metadata": {
        "colab": {
          "base_uri": "https://localhost:8080/"
        },
        "id": "1DYJT6zFsw1I",
        "outputId": "c1915f0f-dde6-4bc1-c18b-b4e60bac3348"
      },
      "execution_count": null,
      "outputs": [
        {
          "output_type": "stream",
          "name": "stdout",
          "text": [
            "something is wrong: tell me that is not found\n",
            "The try...except code is done\n"
          ]
        }
      ]
    },
    {
      "cell_type": "code",
      "source": [
        "# Global \n",
        "company = 'zacrac'\n",
        "def course():\n",
        "    global company\n",
        "    company = 'google'"
      ],
      "metadata": {
        "id": "WtSDHLExs5LE"
      },
      "execution_count": null,
      "outputs": []
    },
    {
      "cell_type": "code",
      "source": [
        "course()"
      ],
      "metadata": {
        "id": "_4jacZ4Is97y"
      },
      "execution_count": null,
      "outputs": []
    },
    {
      "cell_type": "code",
      "source": [
        "print(company)"
      ],
      "metadata": {
        "colab": {
          "base_uri": "https://localhost:8080/"
        },
        "id": "WZ4tL7udtCBW",
        "outputId": "4a06e84d-d5ea-47e2-a4fa-3affe4c6f767"
      },
      "execution_count": null,
      "outputs": [
        {
          "output_type": "stream",
          "name": "stdout",
          "text": [
            "google\n"
          ]
        }
      ]
    },
    {
      "cell_type": "code",
      "source": [
        "# in \n",
        "softwares = ['Python','Java','R']\n",
        "\"Python\" in softwares"
      ],
      "metadata": {
        "colab": {
          "base_uri": "https://localhost:8080/"
        },
        "id": "3vhLngZOtDxw",
        "outputId": "f5647571-bb06-4acd-8008-83fc19885889"
      },
      "execution_count": null,
      "outputs": [
        {
          "output_type": "execute_result",
          "data": {
            "text/plain": [
              "True"
            ]
          },
          "metadata": {},
          "execution_count": 213
        }
      ]
    },
    {
      "cell_type": "code",
      "source": [
        "# is\n",
        "softwares = ['Python','Java','R']\n",
        "x = softwares[0]"
      ],
      "metadata": {
        "id": "Efa_uF7StMg3"
      },
      "execution_count": null,
      "outputs": []
    },
    {
      "cell_type": "code",
      "source": [
        "softwares is x"
      ],
      "metadata": {
        "colab": {
          "base_uri": "https://localhost:8080/"
        },
        "id": "LkEE42rZtRO7",
        "outputId": "d45ae989-68a1-4dad-f847-797225df6302"
      },
      "execution_count": null,
      "outputs": [
        {
          "output_type": "execute_result",
          "data": {
            "text/plain": [
              "False"
            ]
          },
          "metadata": {},
          "execution_count": 215
        }
      ]
    },
    {
      "cell_type": "code",
      "source": [
        "#lamda\n",
        "addtion = lambda x,y : x+y"
      ],
      "metadata": {
        "id": "44iYaXRxtXtu"
      },
      "execution_count": null,
      "outputs": []
    },
    {
      "cell_type": "code",
      "source": [
        "addtion(5,2)"
      ],
      "metadata": {
        "colab": {
          "base_uri": "https://localhost:8080/"
        },
        "id": "wfRqwMSTtbcx",
        "outputId": "dee0b972-7db4-44ca-8b0d-15e0cddaaffb"
      },
      "execution_count": null,
      "outputs": [
        {
          "output_type": "execute_result",
          "data": {
            "text/plain": [
              "7"
            ]
          },
          "metadata": {},
          "execution_count": 217
        }
      ]
    },
    {
      "cell_type": "code",
      "source": [
        "# None\n",
        "x = None\n",
        "type(x)"
      ],
      "metadata": {
        "colab": {
          "base_uri": "https://localhost:8080/"
        },
        "id": "Omw5O7JsttzS",
        "outputId": "2b69192d-d9bc-4d6e-e8be-7b66b5aa44b4"
      },
      "execution_count": null,
      "outputs": [
        {
          "output_type": "execute_result",
          "data": {
            "text/plain": [
              "NoneType"
            ]
          },
          "metadata": {},
          "execution_count": 218
        }
      ]
    },
    {
      "cell_type": "code",
      "source": [
        "#not\n",
        "buy = False\n",
        "not buy "
      ],
      "metadata": {
        "colab": {
          "base_uri": "https://localhost:8080/"
        },
        "id": "xnh8yy1etvvV",
        "outputId": "a176a559-c763-4c4a-fc61-d8baa27d7cf7"
      },
      "execution_count": null,
      "outputs": [
        {
          "output_type": "execute_result",
          "data": {
            "text/plain": [
              "True"
            ]
          },
          "metadata": {},
          "execution_count": 220
        }
      ]
    },
    {
      "cell_type": "code",
      "source": [
        "# Pass\n",
        "def empty_function():\n",
        "    pass\n",
        "empty_function()"
      ],
      "metadata": {
        "id": "opS1s5wXt6dJ"
      },
      "execution_count": null,
      "outputs": []
    },
    {
      "cell_type": "markdown",
      "source": [
        "OPERATORS"
      ],
      "metadata": {
        "id": "ldWs-nb6ujx9"
      }
    },
    {
      "cell_type": "markdown",
      "source": [
        "**Arithmetic Operator**"
      ],
      "metadata": {
        "id": "7wL-ay-TuqEr"
      }
    },
    {
      "cell_type": "code",
      "source": [
        "5-3"
      ],
      "metadata": {
        "colab": {
          "base_uri": "https://localhost:8080/"
        },
        "id": "ErrmVlpNuyXG",
        "outputId": "81efe591-62be-4648-c50d-e40bcfb15c8f"
      },
      "execution_count": null,
      "outputs": [
        {
          "output_type": "execute_result",
          "data": {
            "text/plain": [
              "2"
            ]
          },
          "metadata": {},
          "execution_count": 222
        }
      ]
    },
    {
      "cell_type": "code",
      "source": [
        "5*3"
      ],
      "metadata": {
        "colab": {
          "base_uri": "https://localhost:8080/"
        },
        "id": "LQBM5oFNu5rV",
        "outputId": "432db791-b73f-4369-adc7-0ba5fd4c53cb"
      },
      "execution_count": null,
      "outputs": [
        {
          "output_type": "execute_result",
          "data": {
            "text/plain": [
              "15"
            ]
          },
          "metadata": {},
          "execution_count": 223
        }
      ]
    },
    {
      "cell_type": "code",
      "source": [
        "4/5"
      ],
      "metadata": {
        "colab": {
          "base_uri": "https://localhost:8080/"
        },
        "id": "HbZd5Ru8u_Ch",
        "outputId": "6f847621-0340-4175-880f-42507f26688b"
      },
      "execution_count": null,
      "outputs": [
        {
          "output_type": "execute_result",
          "data": {
            "text/plain": [
              "0.8"
            ]
          },
          "metadata": {},
          "execution_count": 224
        }
      ]
    },
    {
      "cell_type": "code",
      "source": [
        "5//4"
      ],
      "metadata": {
        "colab": {
          "base_uri": "https://localhost:8080/"
        },
        "id": "ogAgGxypvBwJ",
        "outputId": "88661523-1d21-49ef-d90d-9c5acb7f9a60"
      },
      "execution_count": null,
      "outputs": [
        {
          "output_type": "execute_result",
          "data": {
            "text/plain": [
              "1"
            ]
          },
          "metadata": {},
          "execution_count": 225
        }
      ]
    },
    {
      "cell_type": "code",
      "source": [
        "5%3"
      ],
      "metadata": {
        "colab": {
          "base_uri": "https://localhost:8080/"
        },
        "id": "-B-Ie19pvM3A",
        "outputId": "b978500e-ef98-4f5d-9c61-de6a5c57bb4b"
      },
      "execution_count": null,
      "outputs": [
        {
          "output_type": "execute_result",
          "data": {
            "text/plain": [
              "2"
            ]
          },
          "metadata": {},
          "execution_count": 226
        }
      ]
    },
    {
      "cell_type": "code",
      "source": [
        "5**3"
      ],
      "metadata": {
        "colab": {
          "base_uri": "https://localhost:8080/"
        },
        "id": "HcDRj5GYvQfe",
        "outputId": "7101970b-9902-4a58-b0ba-c45dd1ba01e9"
      },
      "execution_count": null,
      "outputs": [
        {
          "output_type": "execute_result",
          "data": {
            "text/plain": [
              "125"
            ]
          },
          "metadata": {},
          "execution_count": 227
        }
      ]
    },
    {
      "cell_type": "markdown",
      "source": [
        "**Comparison Operator**\n",
        "\n",
        "# ==\n",
        "# >\n",
        "# <\n",
        "# <=\n",
        "# >=\n",
        "# !="
      ],
      "metadata": {
        "id": "F7jt2K-1vXEr"
      }
    },
    {
      "cell_type": "markdown",
      "source": [
        "**Logical Operator**"
      ],
      "metadata": {
        "id": "OSOQOycDvj66"
      }
    },
    {
      "cell_type": "code",
      "source": [
        "2==2 and 4 < 5"
      ],
      "metadata": {
        "colab": {
          "base_uri": "https://localhost:8080/"
        },
        "id": "a77E64bpvch6",
        "outputId": "6254d5ed-9ec8-488c-ab7b-913f7e2fd761"
      },
      "execution_count": null,
      "outputs": [
        {
          "output_type": "execute_result",
          "data": {
            "text/plain": [
              "True"
            ]
          },
          "metadata": {},
          "execution_count": 228
        }
      ]
    },
    {
      "cell_type": "code",
      "source": [
        "6 <5 or 5==4"
      ],
      "metadata": {
        "colab": {
          "base_uri": "https://localhost:8080/"
        },
        "id": "oHNffi9Jvzko",
        "outputId": "5d5f7bbf-3f66-4cb0-892f-e212621c7d6d"
      },
      "execution_count": null,
      "outputs": [
        {
          "output_type": "execute_result",
          "data": {
            "text/plain": [
              "False"
            ]
          },
          "metadata": {},
          "execution_count": 229
        }
      ]
    },
    {
      "cell_type": "code",
      "source": [
        "not 3==3"
      ],
      "metadata": {
        "colab": {
          "base_uri": "https://localhost:8080/"
        },
        "id": "QX0Qleqav2ET",
        "outputId": "4bed7d43-3d8d-4316-f532-2c6e0d31016b"
      },
      "execution_count": null,
      "outputs": [
        {
          "output_type": "execute_result",
          "data": {
            "text/plain": [
              "False"
            ]
          },
          "metadata": {},
          "execution_count": 230
        }
      ]
    },
    {
      "cell_type": "markdown",
      "source": [
        "**Assignment Operator**"
      ],
      "metadata": {
        "id": "MoiovNK-v-YM"
      }
    },
    {
      "cell_type": "code",
      "source": [
        "a = 2\n",
        "b = 3"
      ],
      "metadata": {
        "id": "VaT8XsYFwBH9"
      },
      "execution_count": null,
      "outputs": []
    },
    {
      "cell_type": "code",
      "source": [
        "a,b = 2,3"
      ],
      "metadata": {
        "id": "UMS8rE5uwJWh"
      },
      "execution_count": null,
      "outputs": []
    },
    {
      "cell_type": "code",
      "source": [
        "a +=2 "
      ],
      "metadata": {
        "id": "K0-sEaKswNAO"
      },
      "execution_count": null,
      "outputs": []
    },
    {
      "cell_type": "code",
      "source": [
        "a= a+2"
      ],
      "metadata": {
        "id": "OKqKjSBEwQUm"
      },
      "execution_count": null,
      "outputs": []
    },
    {
      "cell_type": "code",
      "source": [
        "a-=2"
      ],
      "metadata": {
        "id": "SyrQ9TCZwkoF"
      },
      "execution_count": null,
      "outputs": []
    },
    {
      "cell_type": "code",
      "source": [
        "a"
      ],
      "metadata": {
        "colab": {
          "base_uri": "https://localhost:8080/"
        },
        "id": "JEBRpUn9woDJ",
        "outputId": "24e52a88-f0d3-43bc-b865-6ea0e75cba01"
      },
      "execution_count": null,
      "outputs": [
        {
          "output_type": "execute_result",
          "data": {
            "text/plain": [
              "4"
            ]
          },
          "metadata": {},
          "execution_count": 236
        }
      ]
    },
    {
      "cell_type": "code",
      "source": [
        "a *= 3"
      ],
      "metadata": {
        "id": "58IctSGkwsav"
      },
      "execution_count": null,
      "outputs": []
    },
    {
      "cell_type": "code",
      "source": [
        "a"
      ],
      "metadata": {
        "colab": {
          "base_uri": "https://localhost:8080/"
        },
        "id": "MlbeCCzkwwaX",
        "outputId": "96af15c7-6b86-4923-a53d-b5f6d469c7b1"
      },
      "execution_count": null,
      "outputs": [
        {
          "output_type": "execute_result",
          "data": {
            "text/plain": [
              "12"
            ]
          },
          "metadata": {},
          "execution_count": 238
        }
      ]
    },
    {
      "cell_type": "code",
      "source": [
        "a/=3"
      ],
      "metadata": {
        "id": "3KRNJ4ozw160"
      },
      "execution_count": null,
      "outputs": []
    },
    {
      "cell_type": "code",
      "source": [
        "a"
      ],
      "metadata": {
        "colab": {
          "base_uri": "https://localhost:8080/"
        },
        "id": "_-auwM6Gw5XS",
        "outputId": "f985b02b-7235-4c73-c8dd-9079f6811929"
      },
      "execution_count": null,
      "outputs": [
        {
          "output_type": "execute_result",
          "data": {
            "text/plain": [
              "4.0"
            ]
          },
          "metadata": {},
          "execution_count": 240
        }
      ]
    },
    {
      "cell_type": "code",
      "source": [
        "a //= 2"
      ],
      "metadata": {
        "id": "EBp4_usaw9Nq"
      },
      "execution_count": null,
      "outputs": []
    },
    {
      "cell_type": "code",
      "source": [
        "a"
      ],
      "metadata": {
        "colab": {
          "base_uri": "https://localhost:8080/"
        },
        "id": "NtPEfEnTxfKI",
        "outputId": "95dfdc86-6c2b-442a-e71b-f53becb0ae09"
      },
      "execution_count": null,
      "outputs": [
        {
          "output_type": "execute_result",
          "data": {
            "text/plain": [
              "2.0"
            ]
          },
          "metadata": {},
          "execution_count": 242
        }
      ]
    },
    {
      "cell_type": "code",
      "source": [
        "a **= 2"
      ],
      "metadata": {
        "id": "LxWDSw-Nxjr2"
      },
      "execution_count": null,
      "outputs": []
    },
    {
      "cell_type": "code",
      "source": [
        "a"
      ],
      "metadata": {
        "colab": {
          "base_uri": "https://localhost:8080/"
        },
        "id": "1jpB4pZgxnl7",
        "outputId": "cb7c2e43-83cf-4b0a-aed5-f9c42b5487d3"
      },
      "execution_count": null,
      "outputs": [
        {
          "output_type": "execute_result",
          "data": {
            "text/plain": [
              "9"
            ]
          },
          "metadata": {},
          "execution_count": 247
        }
      ]
    },
    {
      "cell_type": "code",
      "source": [
        "a = 2 \n",
        "a |= 1"
      ],
      "metadata": {
        "id": "eENVI1tixp7-"
      },
      "execution_count": null,
      "outputs": []
    },
    {
      "cell_type": "code",
      "source": [
        "a"
      ],
      "metadata": {
        "colab": {
          "base_uri": "https://localhost:8080/"
        },
        "id": "hQtHwCa2xvxn",
        "outputId": "f3edb35c-b4a3-432a-fa11-55775591d9b1"
      },
      "execution_count": null,
      "outputs": [
        {
          "output_type": "execute_result",
          "data": {
            "text/plain": [
              "3"
            ]
          },
          "metadata": {},
          "execution_count": 249
        }
      ]
    },
    {
      "cell_type": "markdown",
      "source": [
        "**Membership operator**"
      ],
      "metadata": {
        "id": "_-PiIxvbx0xt"
      }
    },
    {
      "cell_type": "code",
      "source": [
        "lst = ['yam','fruit','veg']"
      ],
      "metadata": {
        "id": "tdTttLZEx4UW"
      },
      "execution_count": null,
      "outputs": []
    },
    {
      "cell_type": "code",
      "source": [
        "'yam' in lst"
      ],
      "metadata": {
        "colab": {
          "base_uri": "https://localhost:8080/"
        },
        "id": "MfaOUDOqx9rW",
        "outputId": "8df5e7d8-2b5b-4035-b2a3-fe06f18c7c8d"
      },
      "execution_count": null,
      "outputs": [
        {
          "output_type": "execute_result",
          "data": {
            "text/plain": [
              "True"
            ]
          },
          "metadata": {},
          "execution_count": 251
        }
      ]
    },
    {
      "cell_type": "code",
      "source": [
        "##Identity Operator\n",
        "a = 3\n",
        "b = a "
      ],
      "metadata": {
        "id": "iCM1kPWayBzJ"
      },
      "execution_count": null,
      "outputs": []
    },
    {
      "cell_type": "code",
      "source": [
        "a is b"
      ],
      "metadata": {
        "colab": {
          "base_uri": "https://localhost:8080/"
        },
        "id": "pA8r2WtPyGN1",
        "outputId": "209c5487-c57a-49d1-d260-72ab4b24fed5"
      },
      "execution_count": null,
      "outputs": [
        {
          "output_type": "execute_result",
          "data": {
            "text/plain": [
              "True"
            ]
          },
          "metadata": {},
          "execution_count": 253
        }
      ]
    },
    {
      "cell_type": "code",
      "source": [
        "y = 3"
      ],
      "metadata": {
        "id": "MMn8bxWCyKZl"
      },
      "execution_count": null,
      "outputs": []
    },
    {
      "cell_type": "code",
      "source": [
        "y is a"
      ],
      "metadata": {
        "colab": {
          "base_uri": "https://localhost:8080/"
        },
        "id": "tcMWMwsqyOis",
        "outputId": "113614d9-b936-4d8e-bb51-7bf99beaf389"
      },
      "execution_count": null,
      "outputs": [
        {
          "output_type": "execute_result",
          "data": {
            "text/plain": [
              "True"
            ]
          },
          "metadata": {},
          "execution_count": 255
        }
      ]
    },
    {
      "cell_type": "code",
      "source": [
        "id(y)"
      ],
      "metadata": {
        "colab": {
          "base_uri": "https://localhost:8080/"
        },
        "id": "Uj9ZibzgyVCx",
        "outputId": "120a6761-ec84-4ca1-ff73-4bf817c0d6d1"
      },
      "execution_count": null,
      "outputs": [
        {
          "output_type": "execute_result",
          "data": {
            "text/plain": [
              "11256128"
            ]
          },
          "metadata": {},
          "execution_count": 256
        }
      ]
    },
    {
      "cell_type": "code",
      "source": [
        "id(a)"
      ],
      "metadata": {
        "colab": {
          "base_uri": "https://localhost:8080/"
        },
        "id": "pYkNWyRQyZsK",
        "outputId": "ff5a61a6-0880-4d9d-9efa-53069c3a92a8"
      },
      "execution_count": null,
      "outputs": [
        {
          "output_type": "execute_result",
          "data": {
            "text/plain": [
              "11256128"
            ]
          },
          "metadata": {},
          "execution_count": 257
        }
      ]
    },
    {
      "cell_type": "code",
      "source": [
        "x = 4"
      ],
      "metadata": {
        "id": "e5N3TmgbydAL"
      },
      "execution_count": null,
      "outputs": []
    },
    {
      "cell_type": "code",
      "source": [
        "id(x)"
      ],
      "metadata": {
        "colab": {
          "base_uri": "https://localhost:8080/"
        },
        "id": "oJU7Zn7KyjVz",
        "outputId": "6479b92e-cc17-4924-ef82-de9e3297d209"
      },
      "execution_count": null,
      "outputs": [
        {
          "output_type": "execute_result",
          "data": {
            "text/plain": [
              "11256160"
            ]
          },
          "metadata": {},
          "execution_count": 259
        }
      ]
    },
    {
      "cell_type": "code",
      "source": [
        "x is a "
      ],
      "metadata": {
        "colab": {
          "base_uri": "https://localhost:8080/"
        },
        "id": "kkmktqEPyohh",
        "outputId": "9b2595a5-d9f0-44f0-eb79-0f0b5aed0ff1"
      },
      "execution_count": null,
      "outputs": [
        {
          "output_type": "execute_result",
          "data": {
            "text/plain": [
              "False"
            ]
          },
          "metadata": {},
          "execution_count": 261
        }
      ]
    },
    {
      "cell_type": "markdown",
      "source": [
        "**Functions**"
      ],
      "metadata": {
        "id": "cqF8Wo8RyqMg"
      }
    },
    {
      "cell_type": "code",
      "source": [
        "def my_func():\n",
        "    print('Hello World')"
      ],
      "metadata": {
        "id": "HgS_g-4Wy6Z-"
      },
      "execution_count": null,
      "outputs": []
    },
    {
      "cell_type": "code",
      "source": [
        "my_func()"
      ],
      "metadata": {
        "colab": {
          "base_uri": "https://localhost:8080/"
        },
        "id": "fOshC55Hy8pj",
        "outputId": "4c57500f-5984-48b5-b818-970308a04abb"
      },
      "execution_count": null,
      "outputs": [
        {
          "output_type": "stream",
          "name": "stdout",
          "text": [
            "Hello World\n"
          ]
        }
      ]
    },
    {
      "cell_type": "code",
      "source": [
        "def greeting(name):\n",
        "    '''\n",
        "    This function attach hello to your input\n",
        "    '''\n",
        "    print(f'Hello {name}')"
      ],
      "metadata": {
        "id": "91H0qYFKzC1i"
      },
      "execution_count": null,
      "outputs": []
    },
    {
      "cell_type": "code",
      "source": [
        "greeting('sylvia')"
      ],
      "metadata": {
        "colab": {
          "base_uri": "https://localhost:8080/"
        },
        "id": "fEGXxEYozN3l",
        "outputId": "ee6d2925-e0a7-4686-c5a0-2f7dc538c8fa"
      },
      "execution_count": null,
      "outputs": [
        {
          "output_type": "stream",
          "name": "stdout",
          "text": [
            "Hello sylvia\n"
          ]
        }
      ]
    },
    {
      "cell_type": "markdown",
      "source": [
        "**Functions with Multiple Parameter or Argument**"
      ],
      "metadata": {
        "id": "KKzt53FHzVft"
      }
    },
    {
      "cell_type": "code",
      "source": [
        "def add_num(num1, num2):\n",
        "    return num1+num2"
      ],
      "metadata": {
        "id": "bosnL2hJzf7x"
      },
      "execution_count": null,
      "outputs": []
    },
    {
      "cell_type": "code",
      "source": [
        "add_num(1,2)"
      ],
      "metadata": {
        "colab": {
          "base_uri": "https://localhost:8080/"
        },
        "id": "dRzG1-pEzmd2",
        "outputId": "c0312eb3-0ec0-4b4f-83d7-b31a396cc1f0"
      },
      "execution_count": null,
      "outputs": [
        {
          "output_type": "execute_result",
          "data": {
            "text/plain": [
              "3"
            ]
          },
          "metadata": {},
          "execution_count": 267
        }
      ]
    },
    {
      "cell_type": "code",
      "source": [
        "def print_result(a,b):\n",
        "    print(a+b)\n",
        "    \n",
        "def return_result(a,b):\n",
        "    return a+b"
      ],
      "metadata": {
        "id": "QYotcaF2ztq3"
      },
      "execution_count": null,
      "outputs": []
    },
    {
      "cell_type": "code",
      "source": [
        "print_result(5,6)\n",
        "return_result(5,6)"
      ],
      "metadata": {
        "colab": {
          "base_uri": "https://localhost:8080/"
        },
        "id": "VFzFA-NqzzLF",
        "outputId": "0833ddab-baf3-4d2d-a9ca-93ba58837085"
      },
      "execution_count": null,
      "outputs": [
        {
          "output_type": "stream",
          "name": "stdout",
          "text": [
            "11\n"
          ]
        },
        {
          "output_type": "execute_result",
          "data": {
            "text/plain": [
              "11"
            ]
          },
          "metadata": {},
          "execution_count": 269
        }
      ]
    },
    {
      "cell_type": "code",
      "source": [
        "my_res1 = print_result(5,6)\n",
        "my_res2 = return_result(5,6)"
      ],
      "metadata": {
        "colab": {
          "base_uri": "https://localhost:8080/"
        },
        "id": "FyagDGHCz3Hx",
        "outputId": "b6101910-cd07-4b3f-e60d-5a72cc01fb0a"
      },
      "execution_count": null,
      "outputs": [
        {
          "output_type": "stream",
          "name": "stdout",
          "text": [
            "11\n"
          ]
        }
      ]
    },
    {
      "cell_type": "code",
      "source": [
        "my_res1"
      ],
      "metadata": {
        "id": "6yomRvWSz71v"
      },
      "execution_count": null,
      "outputs": []
    },
    {
      "cell_type": "code",
      "source": [
        "my_res2"
      ],
      "metadata": {
        "colab": {
          "base_uri": "https://localhost:8080/"
        },
        "id": "ZiO4RDGy0Cii",
        "outputId": "b31d8b1e-e29f-4ec0-9c12-e619eb821b4a"
      },
      "execution_count": null,
      "outputs": [
        {
          "output_type": "execute_result",
          "data": {
            "text/plain": [
              "11"
            ]
          },
          "metadata": {},
          "execution_count": 272
        }
      ]
    },
    {
      "cell_type": "code",
      "source": [
        "def upper_lower(x):\n",
        "    '''\n",
        "    Returns the upper and lower version of a string\n",
        "    '''\n",
        "    upper = x.upper()\n",
        "    lower = x.lower()\n",
        "    \n",
        "    return upper, lower"
      ],
      "metadata": {
        "id": "ISS72L6M0ISv"
      },
      "execution_count": null,
      "outputs": []
    },
    {
      "cell_type": "code",
      "source": [
        "upper_lower('HodGe')"
      ],
      "metadata": {
        "colab": {
          "base_uri": "https://localhost:8080/"
        },
        "id": "7a96euWF0L6l",
        "outputId": "9b7f6032-be7b-40c0-af7f-c2c3526139fd"
      },
      "execution_count": null,
      "outputs": [
        {
          "output_type": "execute_result",
          "data": {
            "text/plain": [
              "('HODGE', 'hodge')"
            ]
          },
          "metadata": {},
          "execution_count": 274
        }
      ]
    },
    {
      "cell_type": "markdown",
      "source": [
        "**Functions with Default Argument**"
      ],
      "metadata": {
        "id": "51j-RoIB0Vgi"
      }
    },
    {
      "cell_type": "code",
      "source": [
        "pow(4, 2)"
      ],
      "metadata": {
        "colab": {
          "base_uri": "https://localhost:8080/"
        },
        "id": "C1HHz8sx0bZY",
        "outputId": "1ea6e128-dca1-45be-eb1f-efc402b4a38c"
      },
      "execution_count": null,
      "outputs": [
        {
          "output_type": "execute_result",
          "data": {
            "text/plain": [
              "16"
            ]
          },
          "metadata": {},
          "execution_count": 275
        }
      ]
    },
    {
      "cell_type": "code",
      "source": [
        "def square_number(num, pow=2):\n",
        "    return num**pow"
      ],
      "metadata": {
        "id": "ZgUC9QFo0xBE"
      },
      "execution_count": null,
      "outputs": []
    },
    {
      "cell_type": "code",
      "source": [
        "square_number(4)"
      ],
      "metadata": {
        "colab": {
          "base_uri": "https://localhost:8080/"
        },
        "id": "OWxP_wzF01LG",
        "outputId": "b1400953-5090-444b-f6c2-316714511042"
      },
      "execution_count": null,
      "outputs": [
        {
          "output_type": "execute_result",
          "data": {
            "text/plain": [
              "16"
            ]
          },
          "metadata": {},
          "execution_count": 277
        }
      ]
    },
    {
      "cell_type": "markdown",
      "source": [
        "Example of functions to check if a list of number is to be printed out-even numbers alone"
      ],
      "metadata": {
        "id": "ofUAL0l71B1Z"
      }
    },
    {
      "cell_type": "code",
      "source": [
        "def even_number(numbers):\n",
        "    for i in number:\n",
        "        if i%2==0:\n",
        "            print(i)\n",
        "    \n",
        "def even_number(numbers):\n",
        "    '''List comprehension'''\n",
        "    even=[i for i in number if 1%2==0]\n",
        "    return even\n",
        "        "
      ],
      "metadata": {
        "id": "hR_SLD_g1XPx"
      },
      "execution_count": null,
      "outputs": []
    },
    {
      "cell_type": "code",
      "source": [
        "lol = [1,2,3,4]"
      ],
      "metadata": {
        "id": "_GYGF6Yg1ewt"
      },
      "execution_count": null,
      "outputs": []
    },
    {
      "cell_type": "code",
      "source": [
        "even_number(lol)"
      ],
      "metadata": {
        "id": "Xn5kw8fi2YMu"
      },
      "execution_count": null,
      "outputs": []
    },
    {
      "cell_type": "markdown",
      "source": [
        "**Practice**"
      ],
      "metadata": {
        "id": "-hUja8n62nAL"
      }
    },
    {
      "cell_type": "markdown",
      "source": [
        "Write a function that computes the mean of array of numbers"
      ],
      "metadata": {
        "id": "0ooRXp602qr0"
      }
    },
    {
      "cell_type": "code",
      "source": [
        "def mean_calculation(num):\n",
        "    x = sum(num)/len(num)\n",
        "    return x\n",
        "        "
      ],
      "metadata": {
        "id": "EvZTkzXv2y_k"
      },
      "execution_count": null,
      "outputs": []
    },
    {
      "cell_type": "code",
      "source": [
        "num = [1,2,3,4]"
      ],
      "metadata": {
        "id": "xTxHLYbI23L1"
      },
      "execution_count": null,
      "outputs": []
    },
    {
      "cell_type": "code",
      "source": [
        "sum(num)"
      ],
      "metadata": {
        "colab": {
          "base_uri": "https://localhost:8080/"
        },
        "id": "pl3WqK-L2646",
        "outputId": "b7810d02-57b6-46e9-aeb4-091210466e3c"
      },
      "execution_count": null,
      "outputs": [
        {
          "output_type": "execute_result",
          "data": {
            "text/plain": [
              "10"
            ]
          },
          "metadata": {},
          "execution_count": 283
        }
      ]
    },
    {
      "cell_type": "code",
      "source": [
        "mean_calculation(num)"
      ],
      "metadata": {
        "colab": {
          "base_uri": "https://localhost:8080/"
        },
        "id": "lJuIsr393AJC",
        "outputId": "0d8e560e-6e15-4ff4-8245-48b4157bbbe7"
      },
      "execution_count": null,
      "outputs": [
        {
          "output_type": "execute_result",
          "data": {
            "text/plain": [
              "2.5"
            ]
          },
          "metadata": {},
          "execution_count": 284
        }
      ]
    },
    {
      "cell_type": "code",
      "source": [
        "def mean_cal(num):\n",
        "    count = 0\n",
        "    for i in range(1,5):\n",
        "        count = count + i\n",
        "        mean = count/len(num)\n",
        "    return mean"
      ],
      "metadata": {
        "id": "-dUBe53L3E6R"
      },
      "execution_count": null,
      "outputs": []
    },
    {
      "cell_type": "code",
      "source": [
        "mean_cal(num)"
      ],
      "metadata": {
        "id": "mNpwTuJj3I1B"
      },
      "execution_count": null,
      "outputs": []
    },
    {
      "cell_type": "code",
      "source": [
        "def mean(num):\n",
        "    #avg = [sum(num)/len(num) for i in num ]\n",
        "    avg = sum([i for i in num])/len(num)\n",
        "    return avg"
      ],
      "metadata": {
        "id": "xYhUKj4w3NnF"
      },
      "execution_count": null,
      "outputs": []
    },
    {
      "cell_type": "code",
      "source": [
        "mean(num)"
      ],
      "metadata": {
        "id": "zzdby_zA3Wpb"
      },
      "execution_count": null,
      "outputs": []
    },
    {
      "cell_type": "markdown",
      "source": [
        "Practice-Nested Function"
      ],
      "metadata": {
        "id": "xo0Sk71l3ZbH"
      }
    },
    {
      "cell_type": "code",
      "source": [
        "def outer():\n",
        "    '''\n",
        "    This is the enclosing function \n",
        "    '''\n",
        "    def inner():\n",
        "        '''\n",
        "        This is the inner function \n",
        "        '''\n",
        "        print('Got printed from the inner_nested')\n",
        "    print('Got printed from the outer')\n",
        "    '''Always initate the inner function before leaving the mother function'''\n",
        "    inner()"
      ],
      "metadata": {
        "id": "3mgWdk_s3pCR"
      },
      "execution_count": null,
      "outputs": []
    },
    {
      "cell_type": "code",
      "source": [
        "outer(\n",
        ")"
      ],
      "metadata": {
        "colab": {
          "base_uri": "https://localhost:8080/"
        },
        "id": "QO2Ijyit3xwN",
        "outputId": "6f415141-f051-4977-cca1-17ee21de3c51"
      },
      "execution_count": null,
      "outputs": [
        {
          "output_type": "stream",
          "name": "stdout",
          "text": [
            "Got printed from the outer\n",
            "Got printed from the inner_nested\n"
          ]
        }
      ]
    },
    {
      "cell_type": "markdown",
      "source": [
        "**Global and Local Variables**"
      ],
      "metadata": {
        "id": "zneZShai33he"
      }
    },
    {
      "cell_type": "code",
      "source": [
        "def outerr(a):\n",
        "    number = a\n",
        "    def innerr():\n",
        "        nonlocal number\n",
        "        number = number ** 2\n",
        "        print('sqaure number= ', number)\n",
        "    print('number1= ', number)\n",
        "    innerr()\n",
        "    print('number2= ', number)"
      ],
      "metadata": {
        "id": "72q1bldy4G51"
      },
      "execution_count": null,
      "outputs": []
    },
    {
      "cell_type": "code",
      "source": [
        "outerr(3)"
      ],
      "metadata": {
        "colab": {
          "base_uri": "https://localhost:8080/"
        },
        "id": "WmL1dEy84LBH",
        "outputId": "408bf22a-2375-447f-801b-0af27602699b"
      },
      "execution_count": null,
      "outputs": [
        {
          "output_type": "stream",
          "name": "stdout",
          "text": [
            "number1=  3\n",
            "sqaure number=  9\n",
            "number2=  9\n"
          ]
        }
      ]
    },
    {
      "cell_type": "markdown",
      "source": [
        "**LAMBDA EXPRESSION, MAP AND FILTER**"
      ],
      "metadata": {
        "id": "bjN-q81I4WTB"
      }
    },
    {
      "cell_type": "markdown",
      "source": [
        "**Map**"
      ],
      "metadata": {
        "id": "aBurUzHf4oZ-"
      }
    },
    {
      "cell_type": "code",
      "source": [
        "num"
      ],
      "metadata": {
        "colab": {
          "base_uri": "https://localhost:8080/"
        },
        "id": "1bW6lsjN4xx5",
        "outputId": "c3d6d03e-e408-456c-c904-aca8ec1219ce"
      },
      "execution_count": null,
      "outputs": [
        {
          "output_type": "execute_result",
          "data": {
            "text/plain": [
              "[1, 2, 3, 4]"
            ]
          },
          "metadata": {},
          "execution_count": 291
        }
      ]
    },
    {
      "cell_type": "code",
      "source": [
        "def sqr(lst):\n",
        "    for i in lst:\n",
        "        x = i**2\n",
        "        print(x)"
      ],
      "metadata": {
        "id": "0KwPEExV42O0"
      },
      "execution_count": null,
      "outputs": []
    },
    {
      "cell_type": "code",
      "source": [
        "sqr(num)"
      ],
      "metadata": {
        "colab": {
          "base_uri": "https://localhost:8080/"
        },
        "id": "MlCOREK24_sT",
        "outputId": "30ad35cf-cb49-4a6a-e4a3-1cca00c9c987"
      },
      "execution_count": null,
      "outputs": [
        {
          "output_type": "stream",
          "name": "stdout",
          "text": [
            "1\n",
            "4\n",
            "9\n",
            "16\n"
          ]
        }
      ]
    },
    {
      "cell_type": "code",
      "source": [
        "def sqr2(num):\n",
        "    return num**2"
      ],
      "metadata": {
        "id": "arFuPVMQ5EzX"
      },
      "execution_count": null,
      "outputs": []
    },
    {
      "cell_type": "code",
      "source": [
        "list(map(sqr2, num))"
      ],
      "metadata": {
        "colab": {
          "base_uri": "https://localhost:8080/"
        },
        "id": "i6gJTaou5IXT",
        "outputId": "ec095da6-315d-45f2-936d-67c376291836"
      },
      "execution_count": null,
      "outputs": [
        {
          "output_type": "execute_result",
          "data": {
            "text/plain": [
              "[1, 4, 9, 16]"
            ]
          },
          "metadata": {},
          "execution_count": 295
        }
      ]
    },
    {
      "cell_type": "code",
      "source": [
        "names1=['segun', 'sayo','gab','tols','goh']"
      ],
      "metadata": {
        "id": "fBQmaRA15OTy"
      },
      "execution_count": null,
      "outputs": []
    },
    {
      "cell_type": "code",
      "source": [
        "def check(x):\n",
        "    out = x.startswith('s')\n",
        "    return out"
      ],
      "metadata": {
        "id": "QB12z3kG5Sh3"
      },
      "execution_count": null,
      "outputs": []
    },
    {
      "cell_type": "code",
      "source": [
        "list(map(check, names1))"
      ],
      "metadata": {
        "colab": {
          "base_uri": "https://localhost:8080/"
        },
        "id": "80A6UsHz5dzB",
        "outputId": "276a8505-5f82-48ab-a959-a130b7e26f76"
      },
      "execution_count": null,
      "outputs": [
        {
          "output_type": "execute_result",
          "data": {
            "text/plain": [
              "[True, True, False, False, False]"
            ]
          },
          "metadata": {},
          "execution_count": 298
        }
      ]
    },
    {
      "cell_type": "code",
      "source": [
        "names = ['john', 'caro', 'gabriel', 'mike']"
      ],
      "metadata": {
        "id": "GgXiQ4IC5nEx"
      },
      "execution_count": null,
      "outputs": []
    },
    {
      "cell_type": "code",
      "source": [
        "def len_even(nam):\n",
        "    '''\n",
        "    This function returns even for an even character length and return the frst letter if the character is not even\n",
        "    '''\n",
        "    if len(nam)%2==0:\n",
        "        return 'Even'\n",
        "    else:\n",
        "        return nam[0]\n",
        "    \n",
        "    "
      ],
      "metadata": {
        "id": "Txbkw1-c5sSH"
      },
      "execution_count": null,
      "outputs": []
    },
    {
      "cell_type": "code",
      "source": [
        "list(map(len_even, names))"
      ],
      "metadata": {
        "colab": {
          "base_uri": "https://localhost:8080/"
        },
        "id": "HGDLGNus5xhu",
        "outputId": "b4f211fc-08a3-47d4-873c-d2caed26988e"
      },
      "execution_count": null,
      "outputs": [
        {
          "output_type": "execute_result",
          "data": {
            "text/plain": [
              "['Even', 'Even', 'g', 'Even']"
            ]
          },
          "metadata": {},
          "execution_count": 301
        }
      ]
    },
    {
      "cell_type": "code",
      "source": [
        "for i in names1:\n",
        "    if i.startswith('s'):\n",
        "        print(i)"
      ],
      "metadata": {
        "colab": {
          "base_uri": "https://localhost:8080/"
        },
        "id": "IUHjzeaD53Dh",
        "outputId": "8511b3f7-8287-4d22-c9be-01cf31889ec8"
      },
      "execution_count": null,
      "outputs": [
        {
          "output_type": "stream",
          "name": "stdout",
          "text": [
            "segun\n",
            "sayo\n"
          ]
        }
      ]
    },
    {
      "cell_type": "markdown",
      "source": [
        "**Filter Code Simplicity**"
      ],
      "metadata": {
        "id": "SR1U5qwn58GO"
      }
    },
    {
      "cell_type": "code",
      "source": [
        "def check2(srts):\n",
        "    return srts.startswith('s')"
      ],
      "metadata": {
        "id": "2ywiibSv6BJH"
      },
      "execution_count": null,
      "outputs": []
    },
    {
      "cell_type": "code",
      "source": [
        "list(filter(check2, names1))"
      ],
      "metadata": {
        "colab": {
          "base_uri": "https://localhost:8080/"
        },
        "id": "Uq5cb-ha6ICm",
        "outputId": "f5a17e11-cd42-41cf-c687-cd1305336003"
      },
      "execution_count": null,
      "outputs": [
        {
          "output_type": "execute_result",
          "data": {
            "text/plain": [
              "['segun', 'sayo']"
            ]
          },
          "metadata": {},
          "execution_count": 304
        }
      ]
    },
    {
      "cell_type": "markdown",
      "source": [
        "A function can also be an attribute in a filter"
      ],
      "metadata": {
        "id": "ANfbqOqL6UTO"
      }
    },
    {
      "cell_type": "code",
      "source": [
        "def check_even(num):\n",
        "    return num%2 == 0"
      ],
      "metadata": {
        "id": "myNti83A6ak1"
      },
      "execution_count": null,
      "outputs": []
    },
    {
      "cell_type": "code",
      "source": [
        "lists = [1,2,3,4,5,6,7]"
      ],
      "metadata": {
        "id": "2x6Oodns6hO8"
      },
      "execution_count": null,
      "outputs": []
    },
    {
      "cell_type": "code",
      "source": [
        "list(filter(check_even, lists))"
      ],
      "metadata": {
        "colab": {
          "base_uri": "https://localhost:8080/"
        },
        "id": "ryVUnFDr6lKL",
        "outputId": "a87fdd8c-1e58-46c0-9e10-1b40e83c501f"
      },
      "execution_count": null,
      "outputs": [
        {
          "output_type": "execute_result",
          "data": {
            "text/plain": [
              "[2, 4, 6]"
            ]
          },
          "metadata": {},
          "execution_count": 307
        }
      ]
    },
    {
      "cell_type": "markdown",
      "source": [
        "**Lambda Expression**"
      ],
      "metadata": {
        "id": "LVMLb12r6r1a"
      }
    },
    {
      "cell_type": "code",
      "source": [
        "def sqrt_num(num):return num**2"
      ],
      "metadata": {
        "id": "o-XFc2PL7uB5"
      },
      "execution_count": null,
      "outputs": []
    },
    {
      "cell_type": "code",
      "source": [
        "sqrt_num(2)"
      ],
      "metadata": {
        "colab": {
          "base_uri": "https://localhost:8080/"
        },
        "id": "IbtxgbI370V4",
        "outputId": "74b7ae6d-faaa-48e0-d557-e88a6e44cf21"
      },
      "execution_count": null,
      "outputs": [
        {
          "output_type": "execute_result",
          "data": {
            "text/plain": [
              "4"
            ]
          },
          "metadata": {},
          "execution_count": 311
        }
      ]
    },
    {
      "cell_type": "code",
      "source": [
        "sqr1 = lambda num:num**2"
      ],
      "metadata": {
        "id": "BEu9G6p4M3i-"
      },
      "execution_count": null,
      "outputs": []
    },
    {
      "cell_type": "code",
      "source": [
        "sqr1(4)"
      ],
      "metadata": {
        "colab": {
          "base_uri": "https://localhost:8080/"
        },
        "id": "B6_ueLeMM8F9",
        "outputId": "8f4816a3-41bd-44b1-98c4-3803a218d868"
      },
      "execution_count": null,
      "outputs": [
        {
          "output_type": "execute_result",
          "data": {
            "text/plain": [
              "16"
            ]
          },
          "metadata": {},
          "execution_count": 313
        }
      ]
    },
    {
      "cell_type": "code",
      "source": [
        "list(map(lambda x: x%2!=0, lists))"
      ],
      "metadata": {
        "colab": {
          "base_uri": "https://localhost:8080/"
        },
        "id": "rYOSw1kFNuAn",
        "outputId": "d2b145b3-e69c-4f95-e6d1-3e7c94d1bc25"
      },
      "execution_count": null,
      "outputs": [
        {
          "output_type": "execute_result",
          "data": {
            "text/plain": [
              "[True, False, True, False, True, False, True]"
            ]
          },
          "metadata": {},
          "execution_count": 314
        }
      ]
    },
    {
      "cell_type": "code",
      "source": [
        "list(map(lambda lists:lists**2, lists))"
      ],
      "metadata": {
        "colab": {
          "base_uri": "https://localhost:8080/"
        },
        "id": "XtWFiUzP7ZIa",
        "outputId": "68a7c197-036b-468c-d75c-defae888a428"
      },
      "execution_count": null,
      "outputs": [
        {
          "output_type": "execute_result",
          "data": {
            "text/plain": [
              "[1, 4, 9, 16, 25, 36, 49]"
            ]
          },
          "metadata": {},
          "execution_count": 315
        }
      ]
    },
    {
      "cell_type": "code",
      "source": [
        "list(filter(lambda x: x%2!=0, lists))"
      ],
      "metadata": {
        "colab": {
          "base_uri": "https://localhost:8080/"
        },
        "id": "Z-jGvraP7eLW",
        "outputId": "43b00162-58c9-482b-c8b8-36bd9630fce4"
      },
      "execution_count": null,
      "outputs": [
        {
          "output_type": "execute_result",
          "data": {
            "text/plain": [
              "[1, 3, 5, 7]"
            ]
          },
          "metadata": {},
          "execution_count": 316
        }
      ]
    },
    {
      "cell_type": "code",
      "source": [
        "string=lambda s:s[::-1]==s #::-1 reverses the index and arrangement of any string attached to it"
      ],
      "metadata": {
        "id": "rFbJwabN7mjd"
      },
      "execution_count": null,
      "outputs": []
    },
    {
      "cell_type": "code",
      "source": [
        "#palindrome means if the strings retains its meaning if reveresed\n",
        "\n",
        "def palidrome(string):\n",
        "    if string[::-1]==string:\n",
        "        return \"palindrome\"\n",
        "    else:\n",
        "        return \"not palindrome\""
      ],
      "metadata": {
        "id": "eN5JgKc58V_x"
      },
      "execution_count": null,
      "outputs": []
    },
    {
      "cell_type": "code",
      "source": [
        "palidrome('day')"
      ],
      "metadata": {
        "colab": {
          "base_uri": "https://localhost:8080/",
          "height": 35
        },
        "id": "DBVug-q-8f2-",
        "outputId": "55b56743-d5c9-4e03-e216-03addbccd14a"
      },
      "execution_count": null,
      "outputs": [
        {
          "output_type": "execute_result",
          "data": {
            "text/plain": [
              "'not palindrome'"
            ],
            "application/vnd.google.colaboratory.intrinsic+json": {
              "type": "string"
            }
          },
          "metadata": {},
          "execution_count": 322
        }
      ]
    },
    {
      "cell_type": "code",
      "source": [
        "lst = ['dad','day','mom']"
      ],
      "metadata": {
        "id": "nF5AICsX8qUf"
      },
      "execution_count": null,
      "outputs": []
    },
    {
      "cell_type": "code",
      "source": [
        "\n",
        "list(map(lambda s:s[::-1]==s, lst))"
      ],
      "metadata": {
        "colab": {
          "base_uri": "https://localhost:8080/"
        },
        "id": "0OTRKyNs80Mv",
        "outputId": "614cd748-1625-475c-eb53-15ac89434fe4"
      },
      "execution_count": null,
      "outputs": [
        {
          "output_type": "execute_result",
          "data": {
            "text/plain": [
              "[True, False, True]"
            ]
          },
          "metadata": {},
          "execution_count": 324
        }
      ]
    },
    {
      "cell_type": "code",
      "source": [
        "list(filter(lambda s:s[::-1]==s, lst))"
      ],
      "metadata": {
        "colab": {
          "base_uri": "https://localhost:8080/"
        },
        "id": "eCHQoaFI84Ke",
        "outputId": "568b13af-2869-4bf0-fd05-880afb7a0d08"
      },
      "execution_count": null,
      "outputs": [
        {
          "output_type": "execute_result",
          "data": {
            "text/plain": [
              "['dad', 'mom']"
            ]
          },
          "metadata": {},
          "execution_count": 325
        }
      ]
    },
    {
      "cell_type": "code",
      "source": [
        "def palindrome1(string):\n",
        "    for i in string:\n",
        "        if i[::-1]==i:\n",
        "            print(i)"
      ],
      "metadata": {
        "id": "2xqSOunE87xG"
      },
      "execution_count": null,
      "outputs": []
    },
    {
      "cell_type": "code",
      "source": [
        "def palindrome2(string):\n",
        "    lts = [i for i in string if i[::-1]==i]\n",
        "    return lts"
      ],
      "metadata": {
        "id": "WHzkU-V39KQH"
      },
      "execution_count": null,
      "outputs": []
    },
    {
      "cell_type": "code",
      "source": [
        "palindrome2(lst)"
      ],
      "metadata": {
        "colab": {
          "base_uri": "https://localhost:8080/"
        },
        "id": "jZ2EOA379UDE",
        "outputId": "f2f3abb9-fe3c-44fc-8359-dec5703f17a1"
      },
      "execution_count": null,
      "outputs": [
        {
          "output_type": "execute_result",
          "data": {
            "text/plain": [
              "['dad', 'mom']"
            ]
          },
          "metadata": {},
          "execution_count": 331
        }
      ]
    }
  ]
}